{
 "cells": [
  {
   "cell_type": "markdown",
   "id": "0ebb8c01",
   "metadata": {},
   "source": [
    "# EDA for titanic dataset\n",
    "## Understanding the variables"
   ]
  },
  {
   "cell_type": "code",
   "execution_count": 89,
   "id": "6cedb3f5",
   "metadata": {},
   "outputs": [],
   "source": [
    "# Importing required libraries\n",
    "\n",
    "import pandas as pd\n",
    "import numpy as np\n",
    "import seaborn as sns\n",
    "import scipy.stats as stats\n",
    "import matplotlib.pyplot as plt\n",
    "import warnings\n",
    "\n",
    "warnings.filterwarnings('ignore')\n",
    "%matplotlib inline"
   ]
  },
  {
   "cell_type": "code",
   "execution_count": 90,
   "id": "2a7d3d00",
   "metadata": {},
   "outputs": [
    {
     "data": {
      "text/html": [
       "<div>\n",
       "<style scoped>\n",
       "    .dataframe tbody tr th:only-of-type {\n",
       "        vertical-align: middle;\n",
       "    }\n",
       "\n",
       "    .dataframe tbody tr th {\n",
       "        vertical-align: top;\n",
       "    }\n",
       "\n",
       "    .dataframe thead th {\n",
       "        text-align: right;\n",
       "    }\n",
       "</style>\n",
       "<table border=\"1\" class=\"dataframe\">\n",
       "  <thead>\n",
       "    <tr style=\"text-align: right;\">\n",
       "      <th></th>\n",
       "      <th>PassengerId</th>\n",
       "      <th>Survived</th>\n",
       "      <th>Pclass</th>\n",
       "      <th>Name</th>\n",
       "      <th>Sex</th>\n",
       "      <th>Age</th>\n",
       "      <th>SibSp</th>\n",
       "      <th>Parch</th>\n",
       "      <th>Ticket</th>\n",
       "      <th>Fare</th>\n",
       "      <th>Cabin</th>\n",
       "      <th>Embarked</th>\n",
       "    </tr>\n",
       "  </thead>\n",
       "  <tbody>\n",
       "    <tr>\n",
       "      <th>0</th>\n",
       "      <td>1</td>\n",
       "      <td>0</td>\n",
       "      <td>3</td>\n",
       "      <td>Braund, Mr. Owen Harris</td>\n",
       "      <td>male</td>\n",
       "      <td>22.0</td>\n",
       "      <td>1</td>\n",
       "      <td>0</td>\n",
       "      <td>A/5 21171</td>\n",
       "      <td>7.2500</td>\n",
       "      <td>NaN</td>\n",
       "      <td>S</td>\n",
       "    </tr>\n",
       "    <tr>\n",
       "      <th>1</th>\n",
       "      <td>2</td>\n",
       "      <td>1</td>\n",
       "      <td>1</td>\n",
       "      <td>Cumings, Mrs. John Bradley (Florence Briggs Th...</td>\n",
       "      <td>female</td>\n",
       "      <td>38.0</td>\n",
       "      <td>1</td>\n",
       "      <td>0</td>\n",
       "      <td>PC 17599</td>\n",
       "      <td>71.2833</td>\n",
       "      <td>C85</td>\n",
       "      <td>C</td>\n",
       "    </tr>\n",
       "    <tr>\n",
       "      <th>2</th>\n",
       "      <td>3</td>\n",
       "      <td>1</td>\n",
       "      <td>3</td>\n",
       "      <td>Heikkinen, Miss. Laina</td>\n",
       "      <td>female</td>\n",
       "      <td>26.0</td>\n",
       "      <td>0</td>\n",
       "      <td>0</td>\n",
       "      <td>STON/O2. 3101282</td>\n",
       "      <td>7.9250</td>\n",
       "      <td>NaN</td>\n",
       "      <td>S</td>\n",
       "    </tr>\n",
       "    <tr>\n",
       "      <th>3</th>\n",
       "      <td>4</td>\n",
       "      <td>1</td>\n",
       "      <td>1</td>\n",
       "      <td>Futrelle, Mrs. Jacques Heath (Lily May Peel)</td>\n",
       "      <td>female</td>\n",
       "      <td>35.0</td>\n",
       "      <td>1</td>\n",
       "      <td>0</td>\n",
       "      <td>113803</td>\n",
       "      <td>53.1000</td>\n",
       "      <td>C123</td>\n",
       "      <td>S</td>\n",
       "    </tr>\n",
       "    <tr>\n",
       "      <th>4</th>\n",
       "      <td>5</td>\n",
       "      <td>0</td>\n",
       "      <td>3</td>\n",
       "      <td>Allen, Mr. William Henry</td>\n",
       "      <td>male</td>\n",
       "      <td>35.0</td>\n",
       "      <td>0</td>\n",
       "      <td>0</td>\n",
       "      <td>373450</td>\n",
       "      <td>8.0500</td>\n",
       "      <td>NaN</td>\n",
       "      <td>S</td>\n",
       "    </tr>\n",
       "  </tbody>\n",
       "</table>\n",
       "</div>"
      ],
      "text/plain": [
       "   PassengerId  Survived  Pclass  \\\n",
       "0            1         0       3   \n",
       "1            2         1       1   \n",
       "2            3         1       3   \n",
       "3            4         1       1   \n",
       "4            5         0       3   \n",
       "\n",
       "                                                Name     Sex   Age  SibSp  \\\n",
       "0                            Braund, Mr. Owen Harris    male  22.0      1   \n",
       "1  Cumings, Mrs. John Bradley (Florence Briggs Th...  female  38.0      1   \n",
       "2                             Heikkinen, Miss. Laina  female  26.0      0   \n",
       "3       Futrelle, Mrs. Jacques Heath (Lily May Peel)  female  35.0      1   \n",
       "4                           Allen, Mr. William Henry    male  35.0      0   \n",
       "\n",
       "   Parch            Ticket     Fare Cabin Embarked  \n",
       "0      0         A/5 21171   7.2500   NaN        S  \n",
       "1      0          PC 17599  71.2833   C85        C  \n",
       "2      0  STON/O2. 3101282   7.9250   NaN        S  \n",
       "3      0            113803  53.1000  C123        S  \n",
       "4      0            373450   8.0500   NaN        S  "
      ]
     },
     "execution_count": 90,
     "metadata": {},
     "output_type": "execute_result"
    }
   ],
   "source": [
    "# reading the dataset using read_csv function\n",
    "\n",
    "data = pd.read_csv('titanic_data.csv')\n",
    "data.head()"
   ]
  },
  {
   "attachments": {
    "image.png": {
     "image/png": "[encoded data removed]"
    }
   },
   "cell_type": "markdown",
   "id": "2f4d4513",
   "metadata": {},
   "source": [
    "![image.png](attachment:image.png)"
   ]
  },
  {
   "cell_type": "code",
   "execution_count": 91,
   "id": "f7b92650",
   "metadata": {},
   "outputs": [
    {
     "data": {
      "text/plain": [
       "(891, 12)"
      ]
     },
     "execution_count": 91,
     "metadata": {},
     "output_type": "execute_result"
    }
   ],
   "source": [
    "data.shape"
   ]
  },
  {
   "cell_type": "code",
   "execution_count": 92,
   "id": "a59c99fe",
   "metadata": {},
   "outputs": [
    {
     "data": {
      "text/plain": [
       "PassengerId      int64\n",
       "Survived         int64\n",
       "Pclass           int64\n",
       "Name            object\n",
       "Sex             object\n",
       "Age            float64\n",
       "SibSp            int64\n",
       "Parch            int64\n",
       "Ticket          object\n",
       "Fare           float64\n",
       "Cabin           object\n",
       "Embarked        object\n",
       "dtype: object"
      ]
     },
     "execution_count": 92,
     "metadata": {},
     "output_type": "execute_result"
    }
   ],
   "source": [
    "# Checking the datatypes\n",
    "data.dtypes"
   ]
  },
  {
   "cell_type": "code",
   "execution_count": 93,
   "id": "b165d716",
   "metadata": {},
   "outputs": [
    {
     "data": {
      "text/html": [
       "<div>\n",
       "<style scoped>\n",
       "    .dataframe tbody tr th:only-of-type {\n",
       "        vertical-align: middle;\n",
       "    }\n",
       "\n",
       "    .dataframe tbody tr th {\n",
       "        vertical-align: top;\n",
       "    }\n",
       "\n",
       "    .dataframe thead th {\n",
       "        text-align: right;\n",
       "    }\n",
       "</style>\n",
       "<table border=\"1\" class=\"dataframe\">\n",
       "  <thead>\n",
       "    <tr style=\"text-align: right;\">\n",
       "      <th></th>\n",
       "      <th>PassengerId</th>\n",
       "      <th>Survived</th>\n",
       "      <th>Pclass</th>\n",
       "      <th>Age</th>\n",
       "      <th>SibSp</th>\n",
       "      <th>Parch</th>\n",
       "      <th>Fare</th>\n",
       "    </tr>\n",
       "  </thead>\n",
       "  <tbody>\n",
       "    <tr>\n",
       "      <th>count</th>\n",
       "      <td>891.000000</td>\n",
       "      <td>891.000000</td>\n",
       "      <td>891.000000</td>\n",
       "      <td>714.000000</td>\n",
       "      <td>891.000000</td>\n",
       "      <td>891.000000</td>\n",
       "      <td>891.000000</td>\n",
       "    </tr>\n",
       "    <tr>\n",
       "      <th>mean</th>\n",
       "      <td>446.000000</td>\n",
       "      <td>0.383838</td>\n",
       "      <td>2.308642</td>\n",
       "      <td>29.699118</td>\n",
       "      <td>0.523008</td>\n",
       "      <td>0.381594</td>\n",
       "      <td>32.204208</td>\n",
       "    </tr>\n",
       "    <tr>\n",
       "      <th>std</th>\n",
       "      <td>257.353842</td>\n",
       "      <td>0.486592</td>\n",
       "      <td>0.836071</td>\n",
       "      <td>14.526497</td>\n",
       "      <td>1.102743</td>\n",
       "      <td>0.806057</td>\n",
       "      <td>49.693429</td>\n",
       "    </tr>\n",
       "    <tr>\n",
       "      <th>min</th>\n",
       "      <td>1.000000</td>\n",
       "      <td>0.000000</td>\n",
       "      <td>1.000000</td>\n",
       "      <td>0.420000</td>\n",
       "      <td>0.000000</td>\n",
       "      <td>0.000000</td>\n",
       "      <td>0.000000</td>\n",
       "    </tr>\n",
       "    <tr>\n",
       "      <th>25%</th>\n",
       "      <td>223.500000</td>\n",
       "      <td>0.000000</td>\n",
       "      <td>2.000000</td>\n",
       "      <td>20.125000</td>\n",
       "      <td>0.000000</td>\n",
       "      <td>0.000000</td>\n",
       "      <td>7.910400</td>\n",
       "    </tr>\n",
       "    <tr>\n",
       "      <th>50%</th>\n",
       "      <td>446.000000</td>\n",
       "      <td>0.000000</td>\n",
       "      <td>3.000000</td>\n",
       "      <td>28.000000</td>\n",
       "      <td>0.000000</td>\n",
       "      <td>0.000000</td>\n",
       "      <td>14.454200</td>\n",
       "    </tr>\n",
       "    <tr>\n",
       "      <th>75%</th>\n",
       "      <td>668.500000</td>\n",
       "      <td>1.000000</td>\n",
       "      <td>3.000000</td>\n",
       "      <td>38.000000</td>\n",
       "      <td>1.000000</td>\n",
       "      <td>0.000000</td>\n",
       "      <td>31.000000</td>\n",
       "    </tr>\n",
       "    <tr>\n",
       "      <th>max</th>\n",
       "      <td>891.000000</td>\n",
       "      <td>1.000000</td>\n",
       "      <td>3.000000</td>\n",
       "      <td>80.000000</td>\n",
       "      <td>8.000000</td>\n",
       "      <td>6.000000</td>\n",
       "      <td>512.329200</td>\n",
       "    </tr>\n",
       "  </tbody>\n",
       "</table>\n",
       "</div>"
      ],
      "text/plain": [
       "       PassengerId    Survived      Pclass         Age       SibSp  \\\n",
       "count   891.000000  891.000000  891.000000  714.000000  891.000000   \n",
       "mean    446.000000    0.383838    2.308642   29.699118    0.523008   \n",
       "std     257.353842    0.486592    0.836071   14.526497    1.102743   \n",
       "min       1.000000    0.000000    1.000000    0.420000    0.000000   \n",
       "25%     223.500000    0.000000    2.000000   20.125000    0.000000   \n",
       "50%     446.000000    0.000000    3.000000   28.000000    0.000000   \n",
       "75%     668.500000    1.000000    3.000000   38.000000    1.000000   \n",
       "max     891.000000    1.000000    3.000000   80.000000    8.000000   \n",
       "\n",
       "            Parch        Fare  \n",
       "count  891.000000  891.000000  \n",
       "mean     0.381594   32.204208  \n",
       "std      0.806057   49.693429  \n",
       "min      0.000000    0.000000  \n",
       "25%      0.000000    7.910400  \n",
       "50%      0.000000   14.454200  \n",
       "75%      0.000000   31.000000  \n",
       "max      6.000000  512.329200  "
      ]
     },
     "execution_count": 93,
     "metadata": {},
     "output_type": "execute_result"
    }
   ],
   "source": [
    "data.describe()"
   ]
  },
  {
   "cell_type": "code",
   "execution_count": 94,
   "id": "b8d932c9",
   "metadata": {},
   "outputs": [],
   "source": [
    "# custom function for counting categories in each variable.\n",
    "\n",
    "def category_count(variable):\n",
    "    value = data[variable].value_counts().count()\n",
    "    return value"
   ]
  },
  {
   "cell_type": "code",
   "execution_count": 95,
   "id": "68adc974",
   "metadata": {},
   "outputs": [
    {
     "name": "stdout",
     "output_type": "stream",
     "text": [
      "PassengerId : 891\n",
      "Survived : 2\n",
      "Pclass : 3\n",
      "Name : 891\n",
      "Sex : 2\n",
      "Age : 88\n",
      "SibSp : 7\n",
      "Parch : 7\n",
      "Ticket : 681\n",
      "Fare : 248\n",
      "Cabin : 147\n",
      "Embarked : 3\n"
     ]
    }
   ],
   "source": [
    "for i in data.columns:\n",
    "    print(i,\":\",category_count(i))"
   ]
  },
  {
   "cell_type": "markdown",
   "id": "9c0c83a2",
   "metadata": {},
   "source": [
    "* The above loop is to check which variables can be encoded using **one hot encoding**. <br>\n",
    "* The variables having no of categories **less than 10** can be encoded using one hot encoding. Where as more than 10 have to encoded using other process like **one hot encoding with multiple categories**."
   ]
  },
  {
   "cell_type": "code",
   "execution_count": 96,
   "id": "25c23f25",
   "metadata": {},
   "outputs": [
    {
     "data": {
      "text/plain": [
       "0"
      ]
     },
     "execution_count": 96,
     "metadata": {},
     "output_type": "execute_result"
    }
   ],
   "source": [
    "# simple function to know about duplicates\n",
    "\n",
    "data['PassengerId'].duplicated().sum()"
   ]
  },
  {
   "cell_type": "markdown",
   "id": "fc46fae3",
   "metadata": {},
   "source": [
    "## Dealing with Missing values"
   ]
  },
  {
   "cell_type": "code",
   "execution_count": 97,
   "id": "a7b64a19",
   "metadata": {
    "scrolled": false
   },
   "outputs": [
    {
     "data": {
      "text/plain": [
       "PassengerId      0\n",
       "Survived         0\n",
       "Pclass           0\n",
       "Name             0\n",
       "Sex              0\n",
       "Age            177\n",
       "SibSp            0\n",
       "Parch            0\n",
       "Ticket           0\n",
       "Fare             0\n",
       "Cabin          687\n",
       "Embarked         2\n",
       "dtype: int64"
      ]
     },
     "execution_count": 97,
     "metadata": {},
     "output_type": "execute_result"
    }
   ],
   "source": [
    "# checking if there are any null values present.\n",
    "data.isnull().sum()"
   ]
  },
  {
   "cell_type": "markdown",
   "id": "8628c311",
   "metadata": {},
   "source": [
    "* There are some **null** values in variables **Age and Cabin**. Which will dealt with further in this notebook.\n",
    "* Missing values can be dealt in various ways like **using central tendency** , **random sample imputation** etc..\n",
    "* In this notebook I am going to use **Random Sample Imputation**."
   ]
  },
  {
   "cell_type": "code",
   "execution_count": 98,
   "id": "c6eb560e",
   "metadata": {},
   "outputs": [],
   "source": [
    "# custom function for imputing nan values\n",
    "\n",
    "def impute_nan(df,variable):\n",
    "    \"\"\"\n",
    "    After dropping the null values taking same no of variables that have null values from the non null values in variable\n",
    "    \"\"\"\n",
    "    random_sample = df[variable].dropna().sample(df[variable].isnull().sum(),random_state=42)\n",
    "    \"\"\"\n",
    "    To replace random_sample values in null vaules changing the index to null value index\n",
    "    \"\"\"\n",
    "    random_sample.index = df[df[variable].isnull()].index\n",
    "    \"\"\"\n",
    "    assuming the random sample values to replace null values using .loc function\n",
    "    \"\"\"\n",
    "    df.loc[df[variable].isnull(),variable] = random_sample"
   ]
  },
  {
   "cell_type": "code",
   "execution_count": 99,
   "id": "5dee5ad2",
   "metadata": {},
   "outputs": [],
   "source": [
    "impute_nan(data,'Age')\n",
    "impute_nan(data,'Embarked')"
   ]
  },
  {
   "cell_type": "markdown",
   "id": "a9cff879",
   "metadata": {},
   "source": [
    "**For cabin the number of null values(327) is greater than values(91), so without the replace parameter sample function cannot take 327 values from 91 without repetation so i have done imputation for this variable separately.**"
   ]
  },
  {
   "cell_type": "code",
   "execution_count": 100,
   "id": "ef0bd4bf",
   "metadata": {},
   "outputs": [],
   "source": [
    "random_sample = data['Cabin'].dropna().sample(data['Cabin'].isnull().sum(), replace=True, random_state=42)\n",
    "random_sample.index = data[data['Cabin'].isnull()].index\n",
    "data.loc[data['Cabin'].isnull(),'Cabin'] = random_sample"
   ]
  },
  {
   "cell_type": "code",
   "execution_count": 101,
   "id": "15b50fee",
   "metadata": {},
   "outputs": [
    {
     "data": {
      "text/plain": [
       "Age         0\n",
       "Embarked    0\n",
       "Cabin       0\n",
       "dtype: int64"
      ]
     },
     "execution_count": 101,
     "metadata": {},
     "output_type": "execute_result"
    }
   ],
   "source": [
    "data[['Age','Embarked','Cabin']].isnull().sum()"
   ]
  },
  {
   "cell_type": "markdown",
   "id": "2d16c839",
   "metadata": {},
   "source": [
    "* As you can see now there are **no null** values in the dataset, ready for further exploration."
   ]
  },
  {
   "cell_type": "markdown",
   "id": "a8790b68",
   "metadata": {},
   "source": [
    "## Checking for outliers\n",
    "\n",
    "* After knowing the variables in the dataset domain knowledge  or common sense indicates that only **Fare and Age** are more or less eligible for checking the presence of outliers using **Boxplot**."
   ]
  },
  {
   "cell_type": "code",
   "execution_count": 102,
   "id": "44cbbbcc",
   "metadata": {},
   "outputs": [
    {
     "data": {
      "text/plain": [
       "Text(0.5, 1.0, 'Age')"
      ]
     },
     "execution_count": 102,
     "metadata": {},
     "output_type": "execute_result"
    },
    {
     "data": {
      "image/png": "[encoded data removed]",
      "text/plain": [
       "<Figure size 1100x500 with 2 Axes>"
      ]
     },
     "metadata": {},
     "output_type": "display_data"
    }
   ],
   "source": [
    "plt.figure(figsize=(11,5))\n",
    "\n",
    "plt.subplot(1,2,1)\n",
    "sns.boxplot(data['Fare'])\n",
    "plt.title('Fare')\n",
    "\n",
    "plt.subplot(1,2,2)\n",
    "sns.boxplot(data['Age'])\n",
    "plt.title('Age')"
   ]
  },
  {
   "cell_type": "markdown",
   "id": "595138f0",
   "metadata": {},
   "source": [
    "* There are some outliers in **Age** and its common nothing that can affect the precitions of dependent variable so leaving them be. <br>\n",
    "* In **Fare** there are a lots of outliers but considering the dataset the first class tickets price is really high, so outliers can be visible as per statistics but domain knowledge they are accepatable."
   ]
  },
  {
   "cell_type": "markdown",
   "id": "ee1123bc",
   "metadata": {},
   "source": [
    "## Univariate Analysis"
   ]
  },
  {
   "cell_type": "code",
   "execution_count": 103,
   "id": "d26ff84d",
   "metadata": {},
   "outputs": [
    {
     "data": {
      "text/plain": [
       "Index(['PassengerId', 'Survived', 'Pclass', 'Name', 'Sex', 'Age', 'SibSp',\n",
       "       'Parch', 'Ticket', 'Fare', 'Cabin', 'Embarked'],\n",
       "      dtype='object')"
      ]
     },
     "execution_count": 103,
     "metadata": {},
     "output_type": "execute_result"
    }
   ],
   "source": [
    "data.columns"
   ]
  },
  {
   "cell_type": "code",
   "execution_count": 104,
   "id": "cd82fdd9",
   "metadata": {},
   "outputs": [
    {
     "data": {
      "text/plain": [
       "Text(0.5, 1.0, 'Count of gender')"
      ]
     },
     "execution_count": 104,
     "metadata": {},
     "output_type": "execute_result"
    },
    {
     "data": {
      "image/png": "[encoded data removed]",
      "text/plain": [
       "<Figure size 1100x500 with 2 Axes>"
      ]
     },
     "metadata": {},
     "output_type": "display_data"
    }
   ],
   "source": [
    "plt.figure(figsize=(11,5))\n",
    "\n",
    "plt.subplot(1,2,1)\n",
    "sns.countplot(x=data['Survived'])\n",
    "plt.title('Count of persons survived')\n",
    "\n",
    "plt.subplot(1,2,2)\n",
    "sns.countplot(x=data['Sex'],palette='rainbow')\n",
    "plt.title('Count of gender')"
   ]
  },
  {
   "cell_type": "markdown",
   "id": "a7e95338",
   "metadata": {},
   "source": [
    "* Countplot of survived suggesting how many have survived and how many are not survived \n",
    "* Countplot of sex suggest how many male and female boarded the ship."
   ]
  },
  {
   "cell_type": "code",
   "execution_count": 105,
   "id": "94124c43",
   "metadata": {},
   "outputs": [
    {
     "data": {
      "text/plain": [
       "<Axes: xlabel='Parch', ylabel='count'>"
      ]
     },
     "execution_count": 105,
     "metadata": {},
     "output_type": "execute_result"
    },
    {
     "data": {
      "image/png": "[encoded data removed]",
      "text/plain": [
       "<Figure size 1500x500 with 3 Axes>"
      ]
     },
     "metadata": {},
     "output_type": "display_data"
    }
   ],
   "source": [
    "plt.figure(figsize=(15,5))\n",
    "\n",
    "plt.subplot(1,3,1)\n",
    "sns.countplot(x=data['Pclass'])\n",
    "\n",
    "plt.subplot(1,3,2)\n",
    "sns.countplot(x=data['SibSp'])\n",
    "\n",
    "plt.subplot(1,3,3)\n",
    "sns.countplot(x=data['Parch'])"
   ]
  },
  {
   "cell_type": "markdown",
   "id": "56809ea5",
   "metadata": {},
   "source": [
    "## Bivariate and Multivariate Analysis"
   ]
  },
  {
   "cell_type": "markdown",
   "id": "f4c4794b",
   "metadata": {},
   "source": [
    "* Before moving to analysis some of the variables which has datatype of int but the the sense of the data is categorical like p_class, sibsp etc. So converting them into **object** will be useful."
   ]
  },
  {
   "cell_type": "code",
   "execution_count": 106,
   "id": "36ec4eab",
   "metadata": {},
   "outputs": [],
   "source": [
    "data['Pclass'] = data['Pclass'].astype('object')\n",
    "data['Survived'] = data['Survived'].astype('object')\n",
    "data['SibSp'] = data['SibSp'].astype('object')\n",
    "data['Parch'] = data['Parch'].astype('object')"
   ]
  },
  {
   "cell_type": "code",
   "execution_count": 107,
   "id": "27cc5964",
   "metadata": {},
   "outputs": [
    {
     "data": {
      "text/plain": [
       "PassengerId      int64\n",
       "Survived        object\n",
       "Pclass          object\n",
       "Name            object\n",
       "Sex             object\n",
       "Age            float64\n",
       "SibSp           object\n",
       "Parch           object\n",
       "Ticket          object\n",
       "Fare           float64\n",
       "Cabin           object\n",
       "Embarked        object\n",
       "dtype: object"
      ]
     },
     "execution_count": 107,
     "metadata": {},
     "output_type": "execute_result"
    }
   ],
   "source": [
    "data.dtypes"
   ]
  },
  {
   "cell_type": "markdown",
   "id": "b2852138",
   "metadata": {},
   "source": [
    "### 1. Does Pcalss has an impact on Survived variable ? \n",
    "\n",
    "* Since they both are **categorical** variables, we can use **chi-squared test** to konwn if there is any noticeable realtion between them.\n",
    "\n",
    "**Hypothesis** <br>\n",
    "\n",
    "1. Null hypothesis (H0): There is **No** relationship between Pcalss and Survived <br>\n",
    "2. Alternate Hypothesis (H1) : There is relationship between both.\n",
    "3. Assuming alpha is **0.05**"
   ]
  },
  {
   "attachments": {
    "image.png": {
     "image/png": "[encoded data removed]"
    }
   },
   "cell_type": "markdown",
   "id": "24f89c38",
   "metadata": {},
   "source": [
    "![image.png](attachment:image.png)"
   ]
  },
  {
   "cell_type": "code",
   "execution_count": 108,
   "id": "4ece5f3d",
   "metadata": {
    "scrolled": true
   },
   "outputs": [
    {
     "name": "stdout",
     "output_type": "stream",
     "text": [
      "Survived    0    1\n",
      "Pclass            \n",
      "1          80  136\n",
      "2          97   87\n",
      "3         372  119\n"
     ]
    }
   ],
   "source": [
    "matrix = pd.crosstab(data['Pclass'],data['Survived'])\n",
    "print(matrix)"
   ]
  },
  {
   "cell_type": "code",
   "execution_count": 109,
   "id": "fde77d93",
   "metadata": {},
   "outputs": [
    {
     "data": {
      "text/plain": [
       "Chi2ContingencyResult(statistic=102.88898875696056, pvalue=4.549251711298793e-23, dof=2, expected_freq=array([[133.09090909,  82.90909091],\n",
       "       [113.37373737,  70.62626263],\n",
       "       [302.53535354, 188.46464646]]))"
      ]
     },
     "execution_count": 109,
     "metadata": {},
     "output_type": "execute_result"
    }
   ],
   "source": [
    "val = stats.chi2_contingency(matrix)\n",
    "val"
   ]
  },
  {
   "cell_type": "code",
   "execution_count": 110,
   "id": "d651d96b",
   "metadata": {},
   "outputs": [
    {
     "data": {
      "text/plain": [
       "array([[133.09090909,  82.90909091],\n",
       "       [113.37373737,  70.62626263],\n",
       "       [302.53535354, 188.46464646]])"
      ]
     },
     "execution_count": 110,
     "metadata": {},
     "output_type": "execute_result"
    }
   ],
   "source": [
    "val.expected_freq"
   ]
  },
  {
   "cell_type": "code",
   "execution_count": 111,
   "id": "ad2ddae4",
   "metadata": {},
   "outputs": [],
   "source": [
    "from scipy.stats import chi2"
   ]
  },
  {
   "cell_type": "code",
   "execution_count": 112,
   "id": "6ba3847e",
   "metadata": {},
   "outputs": [
    {
     "name": "stdout",
     "output_type": "stream",
     "text": [
      "Critical value: 5.991464547107979\n"
     ]
    }
   ],
   "source": [
    "critical_value = chi2.ppf(q=1-0.05,df=val.dof)\n",
    "print(\"Critical value:\", critical_value)"
   ]
  },
  {
   "cell_type": "code",
   "execution_count": 113,
   "id": "c350fd6f",
   "metadata": {},
   "outputs": [
    {
     "name": "stdout",
     "output_type": "stream",
     "text": [
      "We reject the Null hypothesis.\n"
     ]
    }
   ],
   "source": [
    "if val.pvalue < 0.05 and val.statistic > critical_value:\n",
    "    print(\"We reject the Null hypothesis.\")\n",
    "else:\n",
    "    print(\"We accept the Null hypothesis.\")"
   ]
  },
  {
   "cell_type": "markdown",
   "id": "31d57503",
   "metadata": {},
   "source": [
    "**This suggests that there is a relation between the pclass and survived** which can be useful in feature engineering."
   ]
  },
  {
   "cell_type": "markdown",
   "id": "184777cd",
   "metadata": {},
   "source": [
    "**List of hypothesis to check** <br>\n",
    "\n",
    "1. Does **Sex** have an impact on Survived ? \n",
    "2. Does **Sibsp** have an impact on Survived ?\n",
    "3. Does **Parch** have an impact on Survived ?\n",
    "4. Does **Embarked** have an impact on Survived?\n",
    "\n",
    "\n",
    "**Hypothesis**<br>\n",
    "\n",
    "1. Null Hypothesis(H0): `No` Relationship\n",
    "2. Alternate Hypothesis(H1): There is relationship\n",
    "3. Alpha value is **0.05**"
   ]
  },
  {
   "cell_type": "code",
   "execution_count": 114,
   "id": "8c18fd89",
   "metadata": {},
   "outputs": [],
   "source": [
    "def chisquared_test(data, var, dependent):\n",
    "    \n",
    "    data_matrix = pd.crosstab(data[var],data[dependent])\n",
    "    result = stats.chi2_contingency(data_matrix)\n",
    "    \n",
    "    if result.pvalue < 0.05:\n",
    "        print(\" p value:\", round(result.pvalue,7), '\\n', var, \n",
    "              \"has significant impact on Survived.\",\"\\n\")\n",
    "    else:\n",
    "        print(\" p value:\", round(result.pvalue,7), '\\n', var, \n",
    "              \"has no significant impact, can be ignored if needed in feature engineering.\",\"\\n\")"
   ]
  },
  {
   "cell_type": "code",
   "execution_count": 115,
   "id": "022fe2ae",
   "metadata": {},
   "outputs": [
    {
     "name": "stdout",
     "output_type": "stream",
     "text": [
      " p value: 0.0 \n",
      " Sex has significant impact on Survived. \n",
      "\n",
      " p value: 1.6e-06 \n",
      " SibSp has significant impact on Survived. \n",
      "\n",
      " p value: 9.7e-05 \n",
      " Parch has significant impact on Survived. \n",
      "\n",
      " p value: 2.3e-06 \n",
      " Embarked has significant impact on Survived. \n",
      "\n"
     ]
    }
   ],
   "source": [
    "chisquared_test(data, 'Sex', 'Survived')\n",
    "chisquared_test(data, 'SibSp', 'Survived')\n",
    "chisquared_test(data, 'Parch', 'Survived')\n",
    "chisquared_test(data, 'Embarked', 'Survived')"
   ]
  },
  {
   "cell_type": "markdown",
   "id": "f0bd1d66",
   "metadata": {},
   "source": [
    "**From the above results it is evident that these variables have significant impact on Survivied variable**"
   ]
  },
  {
   "cell_type": "code",
   "execution_count": 116,
   "id": "5c33e394",
   "metadata": {},
   "outputs": [
    {
     "name": "stdout",
     "output_type": "stream",
     "text": [
      " p value: 0.0115273 \n",
      " Ticket has significant impact on Survived. \n",
      "\n",
      " p value: 0.6351473 \n",
      " Cabin has no significant impact, can be ignored if needed in feature engineering. \n",
      "\n",
      " p value: 0.4842482 \n",
      " Name has no significant impact, can be ignored if needed in feature engineering. \n",
      "\n"
     ]
    }
   ],
   "source": [
    "chisquared_test(data, 'Ticket','Survived')\n",
    "chisquared_test(data, 'Cabin','Survived')\n",
    "chisquared_test(data, 'Name','Survived')"
   ]
  },
  {
   "cell_type": "markdown",
   "id": "45437dc0",
   "metadata": {},
   "source": [
    "* So its clearly evident that **Name** and **Cabin** has no impact on **Survived** varible can be dropped, for the ease of model deployment.\n",
    "* But **Ticket** has a significant impact on **Survived**, So Ticket will be encoded further in this notebook, as it is a category variable."
   ]
  },
  {
   "cell_type": "code",
   "execution_count": 165,
   "id": "5dcb2c26",
   "metadata": {},
   "outputs": [
    {
     "data": {
      "text/plain": [
       "PassengerId      int64\n",
       "Survived        object\n",
       "Pclass          object\n",
       "Sex             object\n",
       "Age            float64\n",
       "SibSp           object\n",
       "Parch           object\n",
       "Ticket          object\n",
       "Fare           float64\n",
       "Embarked        object\n",
       "dtype: object"
      ]
     },
     "execution_count": 165,
     "metadata": {},
     "output_type": "execute_result"
    }
   ],
   "source": [
    "temp_data = data.drop(columns=['Cabin','Name'])\n",
    "temp_data.dtypes"
   ]
  },
  {
   "cell_type": "markdown",
   "id": "3218a026",
   "metadata": {},
   "source": [
    "### 2. Does Age have a significant impact on Survived variable ?\n",
    "\n",
    "**Hypothesis** <br>\n",
    "\n",
    "1. Null hypothesis (H0): There is **No** relationship between Age and Survived <br>\n",
    "2. Alternate Hypothesis (H1) : There is relationship between both.\n",
    "3. Assuming alpha is **0.05**\n",
    "\n",
    "* I am going to use **oneway annova** test to find the relationship."
   ]
  },
  {
   "cell_type": "code",
   "execution_count": 166,
   "id": "125a7dc8",
   "metadata": {},
   "outputs": [],
   "source": [
    "def annova_krushkal(data, cont):\n",
    "    \n",
    "    annova = stats.f_oneway(data[cont][data['Survived'] == 0], data[cont][data['Survived'] == 1])\n",
    "    krushkal = stats.kruskal(data[cont][data['Survived'] == 0], data[cont][data['Survived'] == 1])\n",
    "    \n",
    "    if (annova.pvalue and krushkal.pvalue) < 0.05:\n",
    "        print(\" annova pvalue:\",annova.pvalue,\"\\n\",\"krushkal pvalue:\",krushkal.pvalue,\"\\n\",\n",
    "              \"Then we reject the null hypothesis and we can conclude there is relationship between both.\")\n",
    "    else:\n",
    "        print(\" annova pvalue:\",annova.pvalue,\"\\n\",\"krushkal pvalue:\",krushkal.pvalue,\"\\n\",\n",
    "             \"Then we accept the null hypothesis and there is no stasticial significance between both variables.\")"
   ]
  },
  {
   "cell_type": "code",
   "execution_count": 167,
   "id": "93a5b2c7",
   "metadata": {},
   "outputs": [
    {
     "name": "stdout",
     "output_type": "stream",
     "text": [
      " annova pvalue: 0.2663747481029658 \n",
      " krushkal pvalue: 0.640328946824587 \n",
      " Then we accept the null hypothesis and there is no stasticial significance between both variables.\n"
     ]
    }
   ],
   "source": [
    "annova_krushkal(data, 'Age')"
   ]
  },
  {
   "cell_type": "markdown",
   "id": "4d8ac201",
   "metadata": {},
   "source": [
    "* Both **Annova and Krushkal** tests show the p value > 0.05 so there is **NO strong relationship between Age and Survived**."
   ]
  },
  {
   "cell_type": "code",
   "execution_count": 168,
   "id": "d9ca6e07",
   "metadata": {},
   "outputs": [
    {
     "name": "stdout",
     "output_type": "stream",
     "text": [
      " annova pvalue: 0.8813657768798144 \n",
      " krushkal pvalue: 0.8812671674895101 \n",
      " Then we accept the null hypothesis and there is no stasticial significance between both variables.\n"
     ]
    }
   ],
   "source": [
    "annova_krushkal(data, 'PassengerId')"
   ]
  },
  {
   "cell_type": "markdown",
   "id": "bf0ea314",
   "metadata": {},
   "source": [
    "* Since annova test dosent perform well with non-normal distributions, considering p value from kruskal test will also suggests **there is NO strong relationship fare and Survived**."
   ]
  },
  {
   "cell_type": "code",
   "execution_count": 169,
   "id": "9061738f",
   "metadata": {},
   "outputs": [
    {
     "name": "stdout",
     "output_type": "stream",
     "text": [
      " annova pvalue: 6.120189341921873e-15 \n",
      " krushkal pvalue: 4.547532067492866e-22 \n",
      " Then we reject the null hypothesis and we can conclude there is relationship between both.\n"
     ]
    }
   ],
   "source": [
    "annova_krushkal(data, 'Fare')"
   ]
  },
  {
   "cell_type": "markdown",
   "id": "dc8cfa95",
   "metadata": {},
   "source": [
    "* The above tests suggest that **Fare** has an strong impact on **Survived** variable.\n",
    "* So based on the conclusions **Age and PassengerId** can be dropped just based on statistical tests."
   ]
  },
  {
   "cell_type": "code",
   "execution_count": 170,
   "id": "cbbb5ac5",
   "metadata": {},
   "outputs": [
    {
     "data": {
      "text/plain": [
       "Survived     object\n",
       "Pclass       object\n",
       "Sex          object\n",
       "SibSp        object\n",
       "Parch        object\n",
       "Ticket       object\n",
       "Fare        float64\n",
       "Embarked     object\n",
       "dtype: object"
      ]
     },
     "execution_count": 170,
     "metadata": {},
     "output_type": "execute_result"
    }
   ],
   "source": [
    "temp_data = temp_data.drop(columns=['Age','PassengerId'])\n",
    "temp_data.dtypes"
   ]
  },
  {
   "cell_type": "markdown",
   "id": "9bcfed4f",
   "metadata": {},
   "source": [
    "## Feature Engineering"
   ]
  },
  {
   "cell_type": "markdown",
   "id": "2a12ea04",
   "metadata": {},
   "source": [
    "### One-Hot Encoing with multiple categories\n",
    "\n",
    "* since **Ticket** has a lot of different categories, to tackle this I am going to use **encoding the top 10 most frequent categories in a variable** and eliminates the other categories.\n",
    "* This ensembling method has been found by reasearchers in a competetion called as **KDD Orange**."
   ]
  },
  {
   "cell_type": "code",
   "execution_count": 171,
   "id": "3c2daf90",
   "metadata": {
    "scrolled": true
   },
   "outputs": [
    {
     "data": {
      "text/plain": [
       "681"
      ]
     },
     "execution_count": 171,
     "metadata": {},
     "output_type": "execute_result"
    }
   ],
   "source": [
    "temp_data['Ticket'].value_counts().count()"
   ]
  },
  {
   "cell_type": "markdown",
   "id": "28d81bf6",
   "metadata": {},
   "source": [
    "* As you can see there are **681 different categories** present in Ticket variable so using one-hot encoding on this variable will give us a 680 more variable to deal with, so to avoid that I am using the method which has been used in KDD orange competetion."
   ]
  },
  {
   "cell_type": "code",
   "execution_count": 145,
   "id": "a38c87a9",
   "metadata": {
    "scrolled": true
   },
   "outputs": [
    {
     "data": {
      "text/plain": [
       "Ticket\n",
       "347082          7\n",
       "CA. 2343        7\n",
       "1601            7\n",
       "3101295         6\n",
       "CA 2144         6\n",
       "347088          6\n",
       "S.O.C. 14879    5\n",
       "382652          5\n",
       "LINE            4\n",
       "PC 17757        4\n",
       "Name: count, dtype: int64"
      ]
     },
     "execution_count": 145,
     "metadata": {},
     "output_type": "execute_result"
    }
   ],
   "source": [
    "temp_data['Ticket'].value_counts().head(10)"
   ]
  },
  {
   "cell_type": "markdown",
   "id": "beb86e2c",
   "metadata": {},
   "source": [
    "* Now that I have the top 10 most frequent catergories in Ticket, I will replace the Ticket columns with these 10 values with **random sample imputation with replacement**."
   ]
  },
  {
   "cell_type": "code",
   "execution_count": 150,
   "id": "12327445",
   "metadata": {},
   "outputs": [
    {
     "data": {
      "text/html": [
       "<div>\n",
       "<style scoped>\n",
       "    .dataframe tbody tr th:only-of-type {\n",
       "        vertical-align: middle;\n",
       "    }\n",
       "\n",
       "    .dataframe tbody tr th {\n",
       "        vertical-align: top;\n",
       "    }\n",
       "\n",
       "    .dataframe thead th {\n",
       "        text-align: right;\n",
       "    }\n",
       "</style>\n",
       "<table border=\"1\" class=\"dataframe\">\n",
       "  <thead>\n",
       "    <tr style=\"text-align: right;\">\n",
       "      <th></th>\n",
       "      <th>Ticket</th>\n",
       "    </tr>\n",
       "  </thead>\n",
       "  <tbody>\n",
       "    <tr>\n",
       "      <th>0</th>\n",
       "      <td>347082</td>\n",
       "    </tr>\n",
       "    <tr>\n",
       "      <th>1</th>\n",
       "      <td>CA. 2343</td>\n",
       "    </tr>\n",
       "    <tr>\n",
       "      <th>2</th>\n",
       "      <td>1601</td>\n",
       "    </tr>\n",
       "    <tr>\n",
       "      <th>3</th>\n",
       "      <td>3101295</td>\n",
       "    </tr>\n",
       "    <tr>\n",
       "      <th>4</th>\n",
       "      <td>CA 2144</td>\n",
       "    </tr>\n",
       "    <tr>\n",
       "      <th>5</th>\n",
       "      <td>347088</td>\n",
       "    </tr>\n",
       "    <tr>\n",
       "      <th>6</th>\n",
       "      <td>S.O.C. 14879</td>\n",
       "    </tr>\n",
       "    <tr>\n",
       "      <th>7</th>\n",
       "      <td>382652</td>\n",
       "    </tr>\n",
       "    <tr>\n",
       "      <th>8</th>\n",
       "      <td>LINE</td>\n",
       "    </tr>\n",
       "    <tr>\n",
       "      <th>9</th>\n",
       "      <td>PC 17757</td>\n",
       "    </tr>\n",
       "  </tbody>\n",
       "</table>\n",
       "</div>"
      ],
      "text/plain": [
       "         Ticket\n",
       "0        347082\n",
       "1      CA. 2343\n",
       "2          1601\n",
       "3       3101295\n",
       "4       CA 2144\n",
       "5        347088\n",
       "6  S.O.C. 14879\n",
       "7        382652\n",
       "8          LINE\n",
       "9      PC 17757"
      ]
     },
     "execution_count": 150,
     "metadata": {},
     "output_type": "execute_result"
    }
   ],
   "source": [
    "# creating a dataframe to be used in random sample imputation.\n",
    "\n",
    "df = pd.DataFrame(data=temp_data['Ticket'].value_counts().head(10).index, index=range(0,10))\n",
    "df"
   ]
  },
  {
   "cell_type": "code",
   "execution_count": 155,
   "id": "4096015b",
   "metadata": {},
   "outputs": [],
   "source": [
    "ticket_top10 = df.sample(temp_data['Ticket'].count(), replace=True, random_state=42)\n",
    "\n",
    "ticket_top10.index = temp_data['Ticket'].index\n",
    "temp_data['Ticket'] = ticket_top10"
   ]
  },
  {
   "cell_type": "code",
   "execution_count": 156,
   "id": "fa6b151a",
   "metadata": {},
   "outputs": [
    {
     "data": {
      "text/plain": [
       "Ticket\n",
       "347082          106\n",
       "PC 17757         98\n",
       "1601             98\n",
       "CA 2144          95\n",
       "S.O.C. 14879     85\n",
       "347088           85\n",
       "382652           84\n",
       "3101295          82\n",
       "LINE             82\n",
       "CA. 2343         76\n",
       "Name: count, dtype: int64"
      ]
     },
     "execution_count": 156,
     "metadata": {},
     "output_type": "execute_result"
    }
   ],
   "source": [
    "temp_data['Ticket'].value_counts()"
   ]
  },
  {
   "cell_type": "markdown",
   "id": "4d24b989",
   "metadata": {},
   "source": [
    "* The different catrgories in **Ticket** variable has been replaced with top 10 most frequent category values, now the temp_data is ready to one-hot encode."
   ]
  },
  {
   "cell_type": "markdown",
   "id": "d4c1b868",
   "metadata": {},
   "source": [
    "### One Hot Encoding\n",
    "\n",
    "* Converting the category type feature into numerical variables by performing one hot encoding on **Pclass, Sex, parch, Ticket and Embarked**\n",
    "* Since **Survived** is our dependent variable dropping that variable and performing one hot encoding on other variables availabe."
   ]
  },
  {
   "cell_type": "code",
   "execution_count": 157,
   "id": "de5ec22b",
   "metadata": {},
   "outputs": [
    {
     "data": {
      "text/html": [
       "<div>\n",
       "<style scoped>\n",
       "    .dataframe tbody tr th:only-of-type {\n",
       "        vertical-align: middle;\n",
       "    }\n",
       "\n",
       "    .dataframe tbody tr th {\n",
       "        vertical-align: top;\n",
       "    }\n",
       "\n",
       "    .dataframe thead th {\n",
       "        text-align: right;\n",
       "    }\n",
       "</style>\n",
       "<table border=\"1\" class=\"dataframe\">\n",
       "  <thead>\n",
       "    <tr style=\"text-align: right;\">\n",
       "      <th></th>\n",
       "      <th>Survived</th>\n",
       "      <th>Pclass</th>\n",
       "      <th>Sex</th>\n",
       "      <th>SibSp</th>\n",
       "      <th>Parch</th>\n",
       "      <th>Ticket</th>\n",
       "      <th>Fare</th>\n",
       "      <th>Embarked</th>\n",
       "    </tr>\n",
       "  </thead>\n",
       "  <tbody>\n",
       "    <tr>\n",
       "      <th>0</th>\n",
       "      <td>0</td>\n",
       "      <td>3</td>\n",
       "      <td>male</td>\n",
       "      <td>1</td>\n",
       "      <td>0</td>\n",
       "      <td>S.O.C. 14879</td>\n",
       "      <td>7.2500</td>\n",
       "      <td>S</td>\n",
       "    </tr>\n",
       "    <tr>\n",
       "      <th>1</th>\n",
       "      <td>1</td>\n",
       "      <td>1</td>\n",
       "      <td>female</td>\n",
       "      <td>1</td>\n",
       "      <td>0</td>\n",
       "      <td>3101295</td>\n",
       "      <td>71.2833</td>\n",
       "      <td>C</td>\n",
       "    </tr>\n",
       "    <tr>\n",
       "      <th>2</th>\n",
       "      <td>1</td>\n",
       "      <td>3</td>\n",
       "      <td>female</td>\n",
       "      <td>0</td>\n",
       "      <td>0</td>\n",
       "      <td>382652</td>\n",
       "      <td>7.9250</td>\n",
       "      <td>S</td>\n",
       "    </tr>\n",
       "    <tr>\n",
       "      <th>3</th>\n",
       "      <td>1</td>\n",
       "      <td>1</td>\n",
       "      <td>female</td>\n",
       "      <td>1</td>\n",
       "      <td>0</td>\n",
       "      <td>CA 2144</td>\n",
       "      <td>53.1000</td>\n",
       "      <td>S</td>\n",
       "    </tr>\n",
       "    <tr>\n",
       "      <th>4</th>\n",
       "      <td>0</td>\n",
       "      <td>3</td>\n",
       "      <td>male</td>\n",
       "      <td>0</td>\n",
       "      <td>0</td>\n",
       "      <td>S.O.C. 14879</td>\n",
       "      <td>8.0500</td>\n",
       "      <td>S</td>\n",
       "    </tr>\n",
       "  </tbody>\n",
       "</table>\n",
       "</div>"
      ],
      "text/plain": [
       "  Survived Pclass     Sex SibSp Parch        Ticket     Fare Embarked\n",
       "0        0      3    male     1     0  S.O.C. 14879   7.2500        S\n",
       "1        1      1  female     1     0       3101295  71.2833        C\n",
       "2        1      3  female     0     0        382652   7.9250        S\n",
       "3        1      1  female     1     0       CA 2144  53.1000        S\n",
       "4        0      3    male     0     0  S.O.C. 14879   8.0500        S"
      ]
     },
     "execution_count": 157,
     "metadata": {},
     "output_type": "execute_result"
    }
   ],
   "source": [
    "temp_data.head()"
   ]
  },
  {
   "cell_type": "code",
   "execution_count": 159,
   "id": "19a78019",
   "metadata": {},
   "outputs": [],
   "source": [
    "temp_data = temp_data.drop(columns=['Survived'])"
   ]
  },
  {
   "cell_type": "code",
   "execution_count": 162,
   "id": "fab4e95b",
   "metadata": {},
   "outputs": [],
   "source": [
    "cleaned_data = pd.get_dummies(temp_data, dtype=int)"
   ]
  },
  {
   "cell_type": "code",
   "execution_count": 163,
   "id": "7a83452f",
   "metadata": {},
   "outputs": [
    {
     "data": {
      "text/html": [
       "<div>\n",
       "<style scoped>\n",
       "    .dataframe tbody tr th:only-of-type {\n",
       "        vertical-align: middle;\n",
       "    }\n",
       "\n",
       "    .dataframe tbody tr th {\n",
       "        vertical-align: top;\n",
       "    }\n",
       "\n",
       "    .dataframe thead th {\n",
       "        text-align: right;\n",
       "    }\n",
       "</style>\n",
       "<table border=\"1\" class=\"dataframe\">\n",
       "  <thead>\n",
       "    <tr style=\"text-align: right;\">\n",
       "      <th></th>\n",
       "      <th>Fare</th>\n",
       "      <th>Pclass_1</th>\n",
       "      <th>Pclass_2</th>\n",
       "      <th>Pclass_3</th>\n",
       "      <th>Sex_female</th>\n",
       "      <th>Sex_male</th>\n",
       "      <th>SibSp_0</th>\n",
       "      <th>SibSp_1</th>\n",
       "      <th>SibSp_2</th>\n",
       "      <th>SibSp_3</th>\n",
       "      <th>...</th>\n",
       "      <th>Ticket_382652</th>\n",
       "      <th>Ticket_CA 2144</th>\n",
       "      <th>Ticket_CA. 2343</th>\n",
       "      <th>Ticket_LINE</th>\n",
       "      <th>Ticket_PC 17757</th>\n",
       "      <th>Ticket_S.O.C. 14879</th>\n",
       "      <th>Embarked_C</th>\n",
       "      <th>Embarked_Q</th>\n",
       "      <th>Embarked_S</th>\n",
       "      <th>Survived</th>\n",
       "    </tr>\n",
       "  </thead>\n",
       "  <tbody>\n",
       "    <tr>\n",
       "      <th>0</th>\n",
       "      <td>7.2500</td>\n",
       "      <td>0</td>\n",
       "      <td>0</td>\n",
       "      <td>1</td>\n",
       "      <td>0</td>\n",
       "      <td>1</td>\n",
       "      <td>0</td>\n",
       "      <td>1</td>\n",
       "      <td>0</td>\n",
       "      <td>0</td>\n",
       "      <td>...</td>\n",
       "      <td>0</td>\n",
       "      <td>0</td>\n",
       "      <td>0</td>\n",
       "      <td>0</td>\n",
       "      <td>0</td>\n",
       "      <td>1</td>\n",
       "      <td>0</td>\n",
       "      <td>0</td>\n",
       "      <td>1</td>\n",
       "      <td>0</td>\n",
       "    </tr>\n",
       "    <tr>\n",
       "      <th>1</th>\n",
       "      <td>71.2833</td>\n",
       "      <td>1</td>\n",
       "      <td>0</td>\n",
       "      <td>0</td>\n",
       "      <td>1</td>\n",
       "      <td>0</td>\n",
       "      <td>0</td>\n",
       "      <td>1</td>\n",
       "      <td>0</td>\n",
       "      <td>0</td>\n",
       "      <td>...</td>\n",
       "      <td>0</td>\n",
       "      <td>0</td>\n",
       "      <td>0</td>\n",
       "      <td>0</td>\n",
       "      <td>0</td>\n",
       "      <td>0</td>\n",
       "      <td>1</td>\n",
       "      <td>0</td>\n",
       "      <td>0</td>\n",
       "      <td>1</td>\n",
       "    </tr>\n",
       "    <tr>\n",
       "      <th>2</th>\n",
       "      <td>7.9250</td>\n",
       "      <td>0</td>\n",
       "      <td>0</td>\n",
       "      <td>1</td>\n",
       "      <td>1</td>\n",
       "      <td>0</td>\n",
       "      <td>1</td>\n",
       "      <td>0</td>\n",
       "      <td>0</td>\n",
       "      <td>0</td>\n",
       "      <td>...</td>\n",
       "      <td>1</td>\n",
       "      <td>0</td>\n",
       "      <td>0</td>\n",
       "      <td>0</td>\n",
       "      <td>0</td>\n",
       "      <td>0</td>\n",
       "      <td>0</td>\n",
       "      <td>0</td>\n",
       "      <td>1</td>\n",
       "      <td>1</td>\n",
       "    </tr>\n",
       "    <tr>\n",
       "      <th>3</th>\n",
       "      <td>53.1000</td>\n",
       "      <td>1</td>\n",
       "      <td>0</td>\n",
       "      <td>0</td>\n",
       "      <td>1</td>\n",
       "      <td>0</td>\n",
       "      <td>0</td>\n",
       "      <td>1</td>\n",
       "      <td>0</td>\n",
       "      <td>0</td>\n",
       "      <td>...</td>\n",
       "      <td>0</td>\n",
       "      <td>1</td>\n",
       "      <td>0</td>\n",
       "      <td>0</td>\n",
       "      <td>0</td>\n",
       "      <td>0</td>\n",
       "      <td>0</td>\n",
       "      <td>0</td>\n",
       "      <td>1</td>\n",
       "      <td>1</td>\n",
       "    </tr>\n",
       "    <tr>\n",
       "      <th>4</th>\n",
       "      <td>8.0500</td>\n",
       "      <td>0</td>\n",
       "      <td>0</td>\n",
       "      <td>1</td>\n",
       "      <td>0</td>\n",
       "      <td>1</td>\n",
       "      <td>1</td>\n",
       "      <td>0</td>\n",
       "      <td>0</td>\n",
       "      <td>0</td>\n",
       "      <td>...</td>\n",
       "      <td>0</td>\n",
       "      <td>0</td>\n",
       "      <td>0</td>\n",
       "      <td>0</td>\n",
       "      <td>0</td>\n",
       "      <td>1</td>\n",
       "      <td>0</td>\n",
       "      <td>0</td>\n",
       "      <td>1</td>\n",
       "      <td>0</td>\n",
       "    </tr>\n",
       "  </tbody>\n",
       "</table>\n",
       "<p>5 rows × 34 columns</p>\n",
       "</div>"
      ],
      "text/plain": [
       "      Fare  Pclass_1  Pclass_2  Pclass_3  Sex_female  Sex_male  SibSp_0  \\\n",
       "0   7.2500         0         0         1           0         1        0   \n",
       "1  71.2833         1         0         0           1         0        0   \n",
       "2   7.9250         0         0         1           1         0        1   \n",
       "3  53.1000         1         0         0           1         0        0   \n",
       "4   8.0500         0         0         1           0         1        1   \n",
       "\n",
       "   SibSp_1  SibSp_2  SibSp_3  ...  Ticket_382652  Ticket_CA 2144  \\\n",
       "0        1        0        0  ...              0               0   \n",
       "1        1        0        0  ...              0               0   \n",
       "2        0        0        0  ...              1               0   \n",
       "3        1        0        0  ...              0               1   \n",
       "4        0        0        0  ...              0               0   \n",
       "\n",
       "   Ticket_CA. 2343  Ticket_LINE  Ticket_PC 17757  Ticket_S.O.C. 14879  \\\n",
       "0                0            0                0                    1   \n",
       "1                0            0                0                    0   \n",
       "2                0            0                0                    0   \n",
       "3                0            0                0                    0   \n",
       "4                0            0                0                    1   \n",
       "\n",
       "   Embarked_C  Embarked_Q  Embarked_S  Survived  \n",
       "0           0           0           1         0  \n",
       "1           1           0           0         1  \n",
       "2           0           0           1         1  \n",
       "3           0           0           1         1  \n",
       "4           0           0           1         0  \n",
       "\n",
       "[5 rows x 34 columns]"
      ]
     },
     "execution_count": 163,
     "metadata": {},
     "output_type": "execute_result"
    }
   ],
   "source": [
    "cleaned_data['Survived'] = data['Survived']\n",
    "cleaned_data.head()"
   ]
  },
  {
   "cell_type": "code",
   "execution_count": 173,
   "id": "ff845511",
   "metadata": {},
   "outputs": [],
   "source": [
    "# saving the data as a CSV file for further use in prediction.\n",
    "cleaned_data.to_csv('titanic_cleaned_data.csv')"
   ]
  },
  {
   "cell_type": "code",
   "execution_count": null,
   "id": "afd03a18",
   "metadata": {},
   "outputs": [],
   "source": []
  }
 ],
 "metadata": {
  "kernelspec": {
   "display_name": "Python 3 (ipykernel)",
   "language": "python",
   "name": "python3"
  },
  "language_info": {
   "codemirror_mode": {
    "name": "ipython",
    "version": 3
   },
   "file_extension": ".py",
   "mimetype": "text/x-python",
   "name": "python",
   "nbconvert_exporter": "python",
   "pygments_lexer": "ipython3",
   "version": "3.11.5"
  }
 },
 "nbformat": 4,
 "nbformat_minor": 5
}
