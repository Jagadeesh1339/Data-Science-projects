{
 "cells": [
  {
   "cell_type": "markdown",
   "id": "5745cab3",
   "metadata": {},
   "source": [
    "# Predicting NYC taxi trip duration"
   ]
  },
  {
   "cell_type": "code",
   "execution_count": 269,
   "id": "645a67e5",
   "metadata": {},
   "outputs": [],
   "source": [
    "%matplotlib inline\n",
    "import numpy as np \n",
    "import pandas as pd\n",
    "pd.set_option('display.max_columns',100)\n",
    "import datetime as dt\n",
    "import matplotlib.pyplot as plt\n",
    "\n",
    "from sklearn.model_selection import train_test_split\n",
    "\n",
    "import warnings\n",
    "warnings.filterwarnings('ignore')\n",
    "\n",
    "from sklearn.linear_model import LinearRegression, Ridge\n",
    "from sklearn.tree import DecisionTreeRegressor\n",
    "from sklearn.model_selection import KFold\n",
    "from sklearn.ensemble import RandomForestRegressor\n",
    "from sklearn.metrics import mean_squared_error\n",
    "import xgboost as xgb"
   ]
  },
  {
   "cell_type": "code",
   "execution_count": 270,
   "id": "06dda727",
   "metadata": {},
   "outputs": [
    {
     "data": {
      "text/html": [
       "<div>\n",
       "<style scoped>\n",
       "    .dataframe tbody tr th:only-of-type {\n",
       "        vertical-align: middle;\n",
       "    }\n",
       "\n",
       "    .dataframe tbody tr th {\n",
       "        vertical-align: top;\n",
       "    }\n",
       "\n",
       "    .dataframe thead th {\n",
       "        text-align: right;\n",
       "    }\n",
       "</style>\n",
       "<table border=\"1\" class=\"dataframe\">\n",
       "  <thead>\n",
       "    <tr style=\"text-align: right;\">\n",
       "      <th></th>\n",
       "      <th>id</th>\n",
       "      <th>vendor_id</th>\n",
       "      <th>pickup_datetime</th>\n",
       "      <th>dropoff_datetime</th>\n",
       "      <th>passenger_count</th>\n",
       "      <th>pickup_longitude</th>\n",
       "      <th>pickup_latitude</th>\n",
       "      <th>dropoff_longitude</th>\n",
       "      <th>dropoff_latitude</th>\n",
       "      <th>store_and_fwd_flag</th>\n",
       "      <th>trip_duration</th>\n",
       "    </tr>\n",
       "  </thead>\n",
       "  <tbody>\n",
       "    <tr>\n",
       "      <th>0</th>\n",
       "      <td>id1080784</td>\n",
       "      <td>2</td>\n",
       "      <td>2016-02-29 16:40:21</td>\n",
       "      <td>2016-02-29 16:47:01</td>\n",
       "      <td>1</td>\n",
       "      <td>-73.953918</td>\n",
       "      <td>40.778873</td>\n",
       "      <td>-73.963875</td>\n",
       "      <td>40.771164</td>\n",
       "      <td>N</td>\n",
       "      <td>400</td>\n",
       "    </tr>\n",
       "    <tr>\n",
       "      <th>1</th>\n",
       "      <td>id0889885</td>\n",
       "      <td>1</td>\n",
       "      <td>2016-03-11 23:35:37</td>\n",
       "      <td>2016-03-11 23:53:57</td>\n",
       "      <td>2</td>\n",
       "      <td>-73.988312</td>\n",
       "      <td>40.731743</td>\n",
       "      <td>-73.994751</td>\n",
       "      <td>40.694931</td>\n",
       "      <td>N</td>\n",
       "      <td>1100</td>\n",
       "    </tr>\n",
       "    <tr>\n",
       "      <th>2</th>\n",
       "      <td>id0857912</td>\n",
       "      <td>2</td>\n",
       "      <td>2016-02-21 17:59:33</td>\n",
       "      <td>2016-02-21 18:26:48</td>\n",
       "      <td>2</td>\n",
       "      <td>-73.997314</td>\n",
       "      <td>40.721458</td>\n",
       "      <td>-73.948029</td>\n",
       "      <td>40.774918</td>\n",
       "      <td>N</td>\n",
       "      <td>1635</td>\n",
       "    </tr>\n",
       "    <tr>\n",
       "      <th>3</th>\n",
       "      <td>id3744273</td>\n",
       "      <td>2</td>\n",
       "      <td>2016-01-05 09:44:31</td>\n",
       "      <td>2016-01-05 10:03:32</td>\n",
       "      <td>6</td>\n",
       "      <td>-73.961670</td>\n",
       "      <td>40.759720</td>\n",
       "      <td>-73.956779</td>\n",
       "      <td>40.780628</td>\n",
       "      <td>N</td>\n",
       "      <td>1141</td>\n",
       "    </tr>\n",
       "    <tr>\n",
       "      <th>4</th>\n",
       "      <td>id0232939</td>\n",
       "      <td>1</td>\n",
       "      <td>2016-02-17 06:42:23</td>\n",
       "      <td>2016-02-17 06:56:31</td>\n",
       "      <td>1</td>\n",
       "      <td>-74.017120</td>\n",
       "      <td>40.708469</td>\n",
       "      <td>-73.988182</td>\n",
       "      <td>40.740631</td>\n",
       "      <td>N</td>\n",
       "      <td>848</td>\n",
       "    </tr>\n",
       "  </tbody>\n",
       "</table>\n",
       "</div>"
      ],
      "text/plain": [
       "          id  vendor_id      pickup_datetime     dropoff_datetime  \\\n",
       "0  id1080784          2  2016-02-29 16:40:21  2016-02-29 16:47:01   \n",
       "1  id0889885          1  2016-03-11 23:35:37  2016-03-11 23:53:57   \n",
       "2  id0857912          2  2016-02-21 17:59:33  2016-02-21 18:26:48   \n",
       "3  id3744273          2  2016-01-05 09:44:31  2016-01-05 10:03:32   \n",
       "4  id0232939          1  2016-02-17 06:42:23  2016-02-17 06:56:31   \n",
       "\n",
       "   passenger_count  pickup_longitude  pickup_latitude  dropoff_longitude  \\\n",
       "0                1        -73.953918        40.778873         -73.963875   \n",
       "1                2        -73.988312        40.731743         -73.994751   \n",
       "2                2        -73.997314        40.721458         -73.948029   \n",
       "3                6        -73.961670        40.759720         -73.956779   \n",
       "4                1        -74.017120        40.708469         -73.988182   \n",
       "\n",
       "   dropoff_latitude store_and_fwd_flag  trip_duration  \n",
       "0         40.771164                  N            400  \n",
       "1         40.694931                  N           1100  \n",
       "2         40.774918                  N           1635  \n",
       "3         40.780628                  N           1141  \n",
       "4         40.740631                  N            848  "
      ]
     },
     "execution_count": 270,
     "metadata": {},
     "output_type": "execute_result"
    }
   ],
   "source": [
    "df = pd.read_csv('nyc_taxi_trip_duration.csv')\n",
    "df.head()"
   ]
  },
  {
   "cell_type": "code",
   "execution_count": 271,
   "id": "8374282a",
   "metadata": {},
   "outputs": [
    {
     "data": {
      "text/plain": [
       "(729322, 11)"
      ]
     },
     "execution_count": 271,
     "metadata": {},
     "output_type": "execute_result"
    }
   ],
   "source": [
    "df.shape"
   ]
  },
  {
   "cell_type": "code",
   "execution_count": 272,
   "id": "a094acfe",
   "metadata": {},
   "outputs": [
    {
     "data": {
      "text/plain": [
       "id                    0\n",
       "vendor_id             0\n",
       "pickup_datetime       0\n",
       "dropoff_datetime      0\n",
       "passenger_count       0\n",
       "pickup_longitude      0\n",
       "pickup_latitude       0\n",
       "dropoff_longitude     0\n",
       "dropoff_latitude      0\n",
       "store_and_fwd_flag    0\n",
       "trip_duration         0\n",
       "dtype: int64"
      ]
     },
     "execution_count": 272,
     "metadata": {},
     "output_type": "execute_result"
    }
   ],
   "source": [
    "df.isnull().sum()"
   ]
  },
  {
   "cell_type": "code",
   "execution_count": 146,
   "id": "aedbc628",
   "metadata": {},
   "outputs": [
    {
     "data": {
      "text/plain": [
       "(700000, 3)"
      ]
     },
     "execution_count": 146,
     "metadata": {},
     "output_type": "execute_result"
    }
   ],
   "source": [
    "route1 = pd.read_csv('osrm/fastest_routes_train_part_1.csv',usecols=['id','total_distance','total_travel_time'])\n",
    "route1.shape"
   ]
  },
  {
   "cell_type": "code",
   "execution_count": 147,
   "id": "75855b29",
   "metadata": {
    "scrolled": true
   },
   "outputs": [
    {
     "data": {
      "text/plain": [
       "(758643, 3)"
      ]
     },
     "execution_count": 147,
     "metadata": {},
     "output_type": "execute_result"
    }
   ],
   "source": [
    "route2 = pd.read_csv('osrm/fastest_routes_train_part_2.csv',usecols=['id','total_distance','total_travel_time'])\n",
    "route2.shape"
   ]
  },
  {
   "cell_type": "code",
   "execution_count": 148,
   "id": "66c07d33",
   "metadata": {},
   "outputs": [
    {
     "data": {
      "text/html": [
       "<div>\n",
       "<style scoped>\n",
       "    .dataframe tbody tr th:only-of-type {\n",
       "        vertical-align: middle;\n",
       "    }\n",
       "\n",
       "    .dataframe tbody tr th {\n",
       "        vertical-align: top;\n",
       "    }\n",
       "\n",
       "    .dataframe thead th {\n",
       "        text-align: right;\n",
       "    }\n",
       "</style>\n",
       "<table border=\"1\" class=\"dataframe\">\n",
       "  <thead>\n",
       "    <tr style=\"text-align: right;\">\n",
       "      <th></th>\n",
       "      <th>id</th>\n",
       "      <th>total_distance</th>\n",
       "      <th>total_travel_time</th>\n",
       "    </tr>\n",
       "  </thead>\n",
       "  <tbody>\n",
       "    <tr>\n",
       "      <th>0</th>\n",
       "      <td>id2875421</td>\n",
       "      <td>2009.1</td>\n",
       "      <td>164.9</td>\n",
       "    </tr>\n",
       "    <tr>\n",
       "      <th>1</th>\n",
       "      <td>id2377394</td>\n",
       "      <td>2513.2</td>\n",
       "      <td>332.0</td>\n",
       "    </tr>\n",
       "    <tr>\n",
       "      <th>2</th>\n",
       "      <td>id3504673</td>\n",
       "      <td>1779.4</td>\n",
       "      <td>235.8</td>\n",
       "    </tr>\n",
       "    <tr>\n",
       "      <th>3</th>\n",
       "      <td>id2181028</td>\n",
       "      <td>1614.9</td>\n",
       "      <td>140.1</td>\n",
       "    </tr>\n",
       "    <tr>\n",
       "      <th>4</th>\n",
       "      <td>id0801584</td>\n",
       "      <td>1393.5</td>\n",
       "      <td>189.4</td>\n",
       "    </tr>\n",
       "  </tbody>\n",
       "</table>\n",
       "</div>"
      ],
      "text/plain": [
       "          id  total_distance  total_travel_time\n",
       "0  id2875421          2009.1              164.9\n",
       "1  id2377394          2513.2              332.0\n",
       "2  id3504673          1779.4              235.8\n",
       "3  id2181028          1614.9              140.1\n",
       "4  id0801584          1393.5              189.4"
      ]
     },
     "execution_count": 148,
     "metadata": {},
     "output_type": "execute_result"
    }
   ],
   "source": [
    "df_street_info = pd.concat((route1, route2))\n",
    "data = pd.merge(df_street_info,data,on='id',how='inner')\n",
    "\n",
    "df_street_info.head()"
   ]
  },
  {
   "cell_type": "code",
   "execution_count": 273,
   "id": "31285418",
   "metadata": {},
   "outputs": [],
   "source": [
    "# converting strings to datetime features\n",
    "df['pickup_datetime'] = pd.to_datetime(df.pickup_datetime)\n",
    "df['dropoff_datetime'] = pd.to_datetime(df.dropoff_datetime)"
   ]
  },
  {
   "cell_type": "code",
   "execution_count": 274,
   "id": "302d1601",
   "metadata": {},
   "outputs": [],
   "source": [
    "# Log transform the Y values\n",
    "df_y = np.log1p(df['trip_duration'])\n",
    "\n",
    "# Add some datetime features\n",
    "df.loc[:, 'pickup_weekday'] = df['pickup_datetime'].dt.weekday\n",
    "df.loc[:, 'pickup_hour_weekofyear'] = df['pickup_datetime'].dt.isocalendar()['week']\n",
    "df.loc[:, 'pickup_hour'] = df['pickup_datetime'].dt.hour\n",
    "df.loc[:, 'pickup_minute'] = df['pickup_datetime'].dt.minute\n",
    "df.loc[:, 'pickup_dt'] = (df['pickup_datetime'] - df['pickup_datetime'].min()).dt.total_seconds()\n",
    "df.loc[:, 'pickup_week_hour'] = df['pickup_weekday'] * 24 + df['pickup_hour']"
   ]
  },
  {
   "cell_type": "markdown",
   "id": "b4c59131",
   "metadata": {},
   "source": [
    "### Eucledian Distance"
   ]
  },
  {
   "cell_type": "code",
   "execution_count": 275,
   "id": "dd58c94f",
   "metadata": {},
   "outputs": [],
   "source": [
    "\n",
    "#displacement\n",
    "y_dist= df['pickup_longitude'] - df['dropoff_longitude']\n",
    "x_dist = df['pickup_latitude'] - df['dropoff_latitude']\n",
    "\n",
    "#square distance\n",
    "df['dist_sq'] = (y_dist ** 2) + (x_dist ** 2)\n",
    "\n",
    "#distance\n",
    "df['dist_sqrt'] = df['dist_sq'] ** 0.5\n",
    "\n"
   ]
  },
  {
   "cell_type": "markdown",
   "id": "95bd25e7",
   "metadata": {},
   "source": [
    "### Haversine Distance"
   ]
  },
  {
   "cell_type": "code",
   "execution_count": 276,
   "id": "ad73adb7",
   "metadata": {},
   "outputs": [],
   "source": [
    "def haversine_array(lat1, lng1, lat2, lng2):\n",
    "    lat1, lng1, lat2, lng2 = map(np.radians, (lat1, lng1, lat2, lng2))\n",
    "    AVG_EARTH_RADIUS = 6371  # in km\n",
    "    lat = lat2 - lat1\n",
    "    lng = lng2 - lng1\n",
    "    d = np.sin(lat * 0.5) ** 2 + np.cos(lat1) * np.cos(lat2) * np.sin(lng * 0.5) ** 2\n",
    "    h = 2 * AVG_EARTH_RADIUS * np.arcsin(np.sqrt(d))\n",
    "    return h\n",
    "\n",
    "def direction_array(lat1, lng1, lat2, lng2):\n",
    "    AVG_EARTH_RADIUS = 6371  # in km\n",
    "    lng_delta_rad = np.radians(lng2 - lng1)\n",
    "    lat1, lng1, lat2, lng2 = map(np.radians, (lat1, lng1, lat2, lng2))\n",
    "    y = np.sin(lng_delta_rad) * np.cos(lat2)\n",
    "    x = np.cos(lat1) * np.sin(lat2) - np.sin(lat1) * np.cos(lat2) * np.cos(lng_delta_rad)\n",
    "    return np.degrees(np.arctan2(y, x))\n",
    "\n",
    "\n",
    "df['haversine_distance'] = haversine_array(df['pickup_latitude'].values, \n",
    "                                                     df['pickup_longitude'].values, \n",
    "                                                     df['dropoff_latitude'].values, \n",
    "                                                     df['dropoff_longitude'].values)\n",
    "\n",
    "\n",
    "df['direction'] = direction_array(df['pickup_latitude'].values, \n",
    "                                          df['pickup_longitude'].values, \n",
    "                                          df['dropoff_latitude'].values, \n",
    "                                          df['dropoff_longitude'].values)\n"
   ]
  },
  {
   "cell_type": "code",
   "execution_count": 277,
   "id": "2bb615f9",
   "metadata": {},
   "outputs": [],
   "source": [
    "### Binned Coordinates ###\n",
    "df['pickup_latitude_round3'] = np.round(df['pickup_latitude'],3)\n",
    "df['pickup_longitude_round3'] = np.round(df['pickup_longitude'],3)\n",
    "\n",
    "df['dropoff_latitude_round3'] = np.round(df['dropoff_latitude'],3)\n",
    "df['dropoff_longitude_round3'] = np.round(df['dropoff_longitude'],3)"
   ]
  },
  {
   "cell_type": "code",
   "execution_count": 278,
   "id": "22d6bf88",
   "metadata": {},
   "outputs": [
    {
     "data": {
      "text/plain": [
       "vendor_id\n",
       "2    390481\n",
       "1    338841\n",
       "Name: count, dtype: int64"
      ]
     },
     "execution_count": 278,
     "metadata": {},
     "output_type": "execute_result"
    }
   ],
   "source": [
    "df.vendor_id.value_counts()"
   ]
  },
  {
   "cell_type": "code",
   "execution_count": 279,
   "id": "44b6adea",
   "metadata": {},
   "outputs": [],
   "source": [
    "df['vendor_id'] = df['vendor_id'] - 1"
   ]
  },
  {
   "cell_type": "code",
   "execution_count": 280,
   "id": "6ff742e3",
   "metadata": {},
   "outputs": [],
   "source": [
    "# For a route, the total distance and travel time are not available. Let's impute that with 0\n",
    "df.fillna(0, inplace = True)"
   ]
  },
  {
   "cell_type": "code",
   "execution_count": 281,
   "id": "1b9fd581",
   "metadata": {},
   "outputs": [],
   "source": [
    "df = df.drop(['id', 'pickup_datetime', 'dropoff_datetime', 'trip_duration','store_and_fwd_flag'], axis=1)"
   ]
  },
  {
   "cell_type": "markdown",
   "id": "78e24da5",
   "metadata": {},
   "source": [
    "## Model Building"
   ]
  },
  {
   "cell_type": "code",
   "execution_count": 283,
   "id": "e7520bb4",
   "metadata": {},
   "outputs": [
    {
     "data": {
      "text/html": [
       "<div>\n",
       "<style scoped>\n",
       "    .dataframe tbody tr th:only-of-type {\n",
       "        vertical-align: middle;\n",
       "    }\n",
       "\n",
       "    .dataframe tbody tr th {\n",
       "        vertical-align: top;\n",
       "    }\n",
       "\n",
       "    .dataframe thead th {\n",
       "        text-align: right;\n",
       "    }\n",
       "</style>\n",
       "<table border=\"1\" class=\"dataframe\">\n",
       "  <thead>\n",
       "    <tr style=\"text-align: right;\">\n",
       "      <th></th>\n",
       "      <th>vendor_id</th>\n",
       "      <th>passenger_count</th>\n",
       "      <th>pickup_longitude</th>\n",
       "      <th>pickup_latitude</th>\n",
       "      <th>dropoff_longitude</th>\n",
       "      <th>dropoff_latitude</th>\n",
       "      <th>pickup_weekday</th>\n",
       "      <th>pickup_hour_weekofyear</th>\n",
       "      <th>pickup_hour</th>\n",
       "      <th>pickup_minute</th>\n",
       "      <th>pickup_dt</th>\n",
       "      <th>pickup_week_hour</th>\n",
       "      <th>dist_sq</th>\n",
       "      <th>dist_sqrt</th>\n",
       "      <th>haversine_distance</th>\n",
       "      <th>direction</th>\n",
       "      <th>pickup_latitude_round3</th>\n",
       "      <th>pickup_longitude_round3</th>\n",
       "      <th>dropoff_latitude_round3</th>\n",
       "      <th>dropoff_longitude_round3</th>\n",
       "    </tr>\n",
       "  </thead>\n",
       "  <tbody>\n",
       "    <tr>\n",
       "      <th>0</th>\n",
       "      <td>1</td>\n",
       "      <td>1</td>\n",
       "      <td>-73.953918</td>\n",
       "      <td>40.778873</td>\n",
       "      <td>-73.963875</td>\n",
       "      <td>40.771164</td>\n",
       "      <td>0</td>\n",
       "      <td>9</td>\n",
       "      <td>16</td>\n",
       "      <td>40</td>\n",
       "      <td>5157547.0</td>\n",
       "      <td>16</td>\n",
       "      <td>0.000159</td>\n",
       "      <td>0.012592</td>\n",
       "      <td>1.199073</td>\n",
       "      <td>-135.634530</td>\n",
       "      <td>40.779</td>\n",
       "      <td>-73.954</td>\n",
       "      <td>40.771</td>\n",
       "      <td>-73.964</td>\n",
       "    </tr>\n",
       "    <tr>\n",
       "      <th>1</th>\n",
       "      <td>0</td>\n",
       "      <td>2</td>\n",
       "      <td>-73.988312</td>\n",
       "      <td>40.731743</td>\n",
       "      <td>-73.994751</td>\n",
       "      <td>40.694931</td>\n",
       "      <td>4</td>\n",
       "      <td>10</td>\n",
       "      <td>23</td>\n",
       "      <td>35</td>\n",
       "      <td>6132863.0</td>\n",
       "      <td>119</td>\n",
       "      <td>0.001397</td>\n",
       "      <td>0.037371</td>\n",
       "      <td>4.129111</td>\n",
       "      <td>-172.445217</td>\n",
       "      <td>40.732</td>\n",
       "      <td>-73.988</td>\n",
       "      <td>40.695</td>\n",
       "      <td>-73.995</td>\n",
       "    </tr>\n",
       "    <tr>\n",
       "      <th>2</th>\n",
       "      <td>1</td>\n",
       "      <td>2</td>\n",
       "      <td>-73.997314</td>\n",
       "      <td>40.721458</td>\n",
       "      <td>-73.948029</td>\n",
       "      <td>40.774918</td>\n",
       "      <td>6</td>\n",
       "      <td>7</td>\n",
       "      <td>17</td>\n",
       "      <td>59</td>\n",
       "      <td>4471099.0</td>\n",
       "      <td>161</td>\n",
       "      <td>0.005287</td>\n",
       "      <td>0.072712</td>\n",
       "      <td>7.250753</td>\n",
       "      <td>34.916093</td>\n",
       "      <td>40.721</td>\n",
       "      <td>-73.997</td>\n",
       "      <td>40.775</td>\n",
       "      <td>-73.948</td>\n",
       "    </tr>\n",
       "    <tr>\n",
       "      <th>3</th>\n",
       "      <td>1</td>\n",
       "      <td>6</td>\n",
       "      <td>-73.961670</td>\n",
       "      <td>40.759720</td>\n",
       "      <td>-73.956779</td>\n",
       "      <td>40.780628</td>\n",
       "      <td>1</td>\n",
       "      <td>1</td>\n",
       "      <td>9</td>\n",
       "      <td>44</td>\n",
       "      <td>380597.0</td>\n",
       "      <td>33</td>\n",
       "      <td>0.000461</td>\n",
       "      <td>0.021473</td>\n",
       "      <td>2.361097</td>\n",
       "      <td>10.043567</td>\n",
       "      <td>40.760</td>\n",
       "      <td>-73.962</td>\n",
       "      <td>40.781</td>\n",
       "      <td>-73.957</td>\n",
       "    </tr>\n",
       "    <tr>\n",
       "      <th>4</th>\n",
       "      <td>0</td>\n",
       "      <td>1</td>\n",
       "      <td>-74.017120</td>\n",
       "      <td>40.708469</td>\n",
       "      <td>-73.988182</td>\n",
       "      <td>40.740631</td>\n",
       "      <td>2</td>\n",
       "      <td>7</td>\n",
       "      <td>6</td>\n",
       "      <td>42</td>\n",
       "      <td>4084869.0</td>\n",
       "      <td>54</td>\n",
       "      <td>0.001872</td>\n",
       "      <td>0.043264</td>\n",
       "      <td>4.328534</td>\n",
       "      <td>34.280582</td>\n",
       "      <td>40.708</td>\n",
       "      <td>-74.017</td>\n",
       "      <td>40.741</td>\n",
       "      <td>-73.988</td>\n",
       "    </tr>\n",
       "  </tbody>\n",
       "</table>\n",
       "</div>"
      ],
      "text/plain": [
       "   vendor_id  passenger_count  pickup_longitude  pickup_latitude  \\\n",
       "0          1                1        -73.953918        40.778873   \n",
       "1          0                2        -73.988312        40.731743   \n",
       "2          1                2        -73.997314        40.721458   \n",
       "3          1                6        -73.961670        40.759720   \n",
       "4          0                1        -74.017120        40.708469   \n",
       "\n",
       "   dropoff_longitude  dropoff_latitude  pickup_weekday  \\\n",
       "0         -73.963875         40.771164               0   \n",
       "1         -73.994751         40.694931               4   \n",
       "2         -73.948029         40.774918               6   \n",
       "3         -73.956779         40.780628               1   \n",
       "4         -73.988182         40.740631               2   \n",
       "\n",
       "   pickup_hour_weekofyear  pickup_hour  pickup_minute  pickup_dt  \\\n",
       "0                       9           16             40  5157547.0   \n",
       "1                      10           23             35  6132863.0   \n",
       "2                       7           17             59  4471099.0   \n",
       "3                       1            9             44   380597.0   \n",
       "4                       7            6             42  4084869.0   \n",
       "\n",
       "   pickup_week_hour   dist_sq  dist_sqrt  haversine_distance   direction  \\\n",
       "0                16  0.000159   0.012592            1.199073 -135.634530   \n",
       "1               119  0.001397   0.037371            4.129111 -172.445217   \n",
       "2               161  0.005287   0.072712            7.250753   34.916093   \n",
       "3                33  0.000461   0.021473            2.361097   10.043567   \n",
       "4                54  0.001872   0.043264            4.328534   34.280582   \n",
       "\n",
       "   pickup_latitude_round3  pickup_longitude_round3  dropoff_latitude_round3  \\\n",
       "0                  40.779                  -73.954                   40.771   \n",
       "1                  40.732                  -73.988                   40.695   \n",
       "2                  40.721                  -73.997                   40.775   \n",
       "3                  40.760                  -73.962                   40.781   \n",
       "4                  40.708                  -74.017                   40.741   \n",
       "\n",
       "   dropoff_longitude_round3  \n",
       "0                   -73.964  \n",
       "1                   -73.995  \n",
       "2                   -73.948  \n",
       "3                   -73.957  \n",
       "4                   -73.988  "
      ]
     },
     "execution_count": 283,
     "metadata": {},
     "output_type": "execute_result"
    }
   ],
   "source": [
    "df.head()"
   ]
  },
  {
   "cell_type": "markdown",
   "id": "40918428",
   "metadata": {},
   "source": [
    "### Cross Validation"
   ]
  },
  {
   "cell_type": "code",
   "execution_count": 284,
   "id": "c5cf4725",
   "metadata": {},
   "outputs": [],
   "source": [
    "from math import sqrt\n",
    "def cv_score(ml_model, rstate = 11,cols = df.columns):\n",
    "    i = 1\n",
    "    cv_scores = []\n",
    "    df1 = df.copy()\n",
    "    df1 = df[cols]\n",
    "    \n",
    "    kf = KFold(n_splits=5,random_state=rstate,shuffle=True)\n",
    "    for train_index,test_index in kf.split(df1,df_y):\n",
    "        print('\\n{} of kfold {}'.format(i,kf.n_splits))\n",
    "        xtr,xvl = df1.loc[train_index].values,df1.loc[test_index].values\n",
    "        ytr,yvl = df_y[train_index].values,df_y[test_index].values\n",
    "\n",
    "        model = ml_model\n",
    "        model.fit(xtr, ytr)\n",
    "        train_val = model.predict(xtr)\n",
    "        pred_val = model.predict(xvl)\n",
    "        rmse_score_train = sqrt(mean_squared_error(ytr, train_val))\n",
    "        rmse_score = sqrt(mean_squared_error(yvl, pred_val))\n",
    "        sufix = \"\"\n",
    "        msg = \"\"\n",
    "        #msg += \"Train RMSE: {:.5f} \".format(rmse_score_train)\n",
    "        msg += \"Valid RMSE: {:.5f}\".format(rmse_score)\n",
    "        print(\"{}\".format(msg))\n",
    "        # Save scores\n",
    "        cv_scores.append(rmse_score)\n",
    "        i+=1\n",
    "    return cv_scores"
   ]
  },
  {
   "cell_type": "markdown",
   "id": "27a60d6b",
   "metadata": {},
   "source": [
    "### Ensemble models"
   ]
  },
  {
   "cell_type": "code",
   "execution_count": 285,
   "id": "c44275ca",
   "metadata": {},
   "outputs": [
    {
     "name": "stdout",
     "output_type": "stream",
     "text": [
      "\n",
      "1 of kfold 5\n",
      "Valid RMSE: 0.43130\n",
      "\n",
      "2 of kfold 5\n",
      "Valid RMSE: 0.43196\n",
      "\n",
      "3 of kfold 5\n",
      "Valid RMSE: 0.42200\n",
      "\n",
      "4 of kfold 5\n",
      "Valid RMSE: 0.42666\n",
      "\n",
      "5 of kfold 5\n",
      "Valid RMSE: 0.42483\n"
     ]
    }
   ],
   "source": [
    "rf_params = {'random_state': 0, 'n_estimators': 19, 'max_depth': 11, 'n_jobs': -1, \"min_samples_split\": 43}\n",
    "rf_scores = cv_score(RandomForestRegressor(**rf_params))"
   ]
  },
  {
   "cell_type": "markdown",
   "id": "f230c712",
   "metadata": {},
   "source": [
    "### XGboost"
   ]
  },
  {
   "cell_type": "code",
   "execution_count": 287,
   "id": "63614ecc",
   "metadata": {},
   "outputs": [],
   "source": [
    "#Splitting the data into df and Validation set\n",
    "xtrain, xtest, ytrain, ytest = train_test_split(df,df_y,test_size=1/3, random_state=0)"
   ]
  },
  {
   "cell_type": "code",
   "execution_count": 288,
   "id": "a55aa96c",
   "metadata": {},
   "outputs": [],
   "source": [
    "dtrain = xgb.DMatrix(xtrain, label=ytrain)\n",
    "dvalid = xgb.DMatrix(xtest, label=ytest)\n",
    "\n",
    "watchlist = [(dtrain, 'train'), (dvalid, 'valid')]"
   ]
  },
  {
   "cell_type": "code",
   "execution_count": 289,
   "id": "5f7a1167",
   "metadata": {},
   "outputs": [
    {
     "name": "stdout",
     "output_type": "stream",
     "text": [
      "[0]\ttrain-rmse:0.76801\tvalid-rmse:0.77385\n",
      "[20]\ttrain-rmse:0.51954\tvalid-rmse:0.52491\n",
      "[40]\ttrain-rmse:0.46445\tvalid-rmse:0.46997\n",
      "[60]\ttrain-rmse:0.44468\tvalid-rmse:0.45024\n",
      "[80]\ttrain-rmse:0.43352\tvalid-rmse:0.43927\n",
      "[100]\ttrain-rmse:0.42513\tvalid-rmse:0.43118\n",
      "[120]\ttrain-rmse:0.41971\tvalid-rmse:0.42605\n",
      "[140]\ttrain-rmse:0.41554\tvalid-rmse:0.42216\n",
      "[160]\ttrain-rmse:0.41228\tvalid-rmse:0.41914\n",
      "[180]\ttrain-rmse:0.40957\tvalid-rmse:0.41671\n",
      "[200]\ttrain-rmse:0.40745\tvalid-rmse:0.41488\n",
      "[220]\ttrain-rmse:0.40545\tvalid-rmse:0.41319\n",
      "[240]\ttrain-rmse:0.40352\tvalid-rmse:0.41160\n",
      "[260]\ttrain-rmse:0.40203\tvalid-rmse:0.41039\n",
      "[280]\ttrain-rmse:0.40063\tvalid-rmse:0.40935\n",
      "[300]\ttrain-rmse:0.39940\tvalid-rmse:0.40842\n",
      "[320]\ttrain-rmse:0.39823\tvalid-rmse:0.40749\n",
      "[340]\ttrain-rmse:0.39706\tvalid-rmse:0.40674\n",
      "[360]\ttrain-rmse:0.39619\tvalid-rmse:0.40614\n",
      "[380]\ttrain-rmse:0.39518\tvalid-rmse:0.40539\n",
      "[400]\ttrain-rmse:0.39429\tvalid-rmse:0.40485\n",
      "[420]\ttrain-rmse:0.39333\tvalid-rmse:0.40422\n",
      "[440]\ttrain-rmse:0.39259\tvalid-rmse:0.40374\n",
      "[460]\ttrain-rmse:0.39169\tvalid-rmse:0.40326\n",
      "[480]\ttrain-rmse:0.39105\tvalid-rmse:0.40293\n",
      "[500]\ttrain-rmse:0.39033\tvalid-rmse:0.40257\n",
      "[520]\ttrain-rmse:0.38952\tvalid-rmse:0.40222\n",
      "[540]\ttrain-rmse:0.38897\tvalid-rmse:0.40195\n",
      "[560]\ttrain-rmse:0.38837\tvalid-rmse:0.40167\n",
      "[580]\ttrain-rmse:0.38773\tvalid-rmse:0.40136\n",
      "[600]\ttrain-rmse:0.38712\tvalid-rmse:0.40102\n",
      "[620]\ttrain-rmse:0.38651\tvalid-rmse:0.40072\n",
      "[640]\ttrain-rmse:0.38588\tvalid-rmse:0.40042\n",
      "[660]\ttrain-rmse:0.38537\tvalid-rmse:0.40020\n",
      "[680]\ttrain-rmse:0.38482\tvalid-rmse:0.39998\n",
      "[700]\ttrain-rmse:0.38424\tvalid-rmse:0.39975\n",
      "[720]\ttrain-rmse:0.38376\tvalid-rmse:0.39962\n",
      "[740]\ttrain-rmse:0.38318\tvalid-rmse:0.39939\n",
      "[760]\ttrain-rmse:0.38266\tvalid-rmse:0.39917\n",
      "[780]\ttrain-rmse:0.38213\tvalid-rmse:0.39906\n",
      "[800]\ttrain-rmse:0.38159\tvalid-rmse:0.39892\n",
      "[820]\ttrain-rmse:0.38104\tvalid-rmse:0.39874\n",
      "[840]\ttrain-rmse:0.38056\tvalid-rmse:0.39857\n",
      "[860]\ttrain-rmse:0.38010\tvalid-rmse:0.39842\n",
      "[880]\ttrain-rmse:0.37958\tvalid-rmse:0.39825\n",
      "[900]\ttrain-rmse:0.37916\tvalid-rmse:0.39814\n",
      "[920]\ttrain-rmse:0.37865\tvalid-rmse:0.39802\n",
      "[940]\ttrain-rmse:0.37824\tvalid-rmse:0.39783\n",
      "[960]\ttrain-rmse:0.37782\tvalid-rmse:0.39773\n",
      "[980]\ttrain-rmse:0.37739\tvalid-rmse:0.39762\n",
      "[1000]\ttrain-rmse:0.37693\tvalid-rmse:0.39755\n",
      "[1020]\ttrain-rmse:0.37648\tvalid-rmse:0.39748\n",
      "[1040]\ttrain-rmse:0.37612\tvalid-rmse:0.39739\n",
      "[1060]\ttrain-rmse:0.37569\tvalid-rmse:0.39731\n",
      "[1080]\ttrain-rmse:0.37527\tvalid-rmse:0.39714\n",
      "[1100]\ttrain-rmse:0.37485\tvalid-rmse:0.39711\n",
      "[1120]\ttrain-rmse:0.37438\tvalid-rmse:0.39703\n",
      "[1140]\ttrain-rmse:0.37395\tvalid-rmse:0.39687\n",
      "[1160]\ttrain-rmse:0.37354\tvalid-rmse:0.39673\n",
      "[1180]\ttrain-rmse:0.37311\tvalid-rmse:0.39661\n",
      "[1200]\ttrain-rmse:0.37274\tvalid-rmse:0.39650\n",
      "[1220]\ttrain-rmse:0.37237\tvalid-rmse:0.39637\n",
      "[1240]\ttrain-rmse:0.37199\tvalid-rmse:0.39629\n",
      "[1260]\ttrain-rmse:0.37159\tvalid-rmse:0.39626\n",
      "[1280]\ttrain-rmse:0.37121\tvalid-rmse:0.39617\n",
      "[1300]\ttrain-rmse:0.37082\tvalid-rmse:0.39611\n",
      "[1320]\ttrain-rmse:0.37041\tvalid-rmse:0.39604\n",
      "[1340]\ttrain-rmse:0.36999\tvalid-rmse:0.39596\n",
      "[1360]\ttrain-rmse:0.36965\tvalid-rmse:0.39588\n",
      "[1380]\ttrain-rmse:0.36929\tvalid-rmse:0.39581\n",
      "[1400]\ttrain-rmse:0.36894\tvalid-rmse:0.39569\n",
      "[1420]\ttrain-rmse:0.36856\tvalid-rmse:0.39562\n",
      "[1440]\ttrain-rmse:0.36816\tvalid-rmse:0.39559\n",
      "[1460]\ttrain-rmse:0.36777\tvalid-rmse:0.39553\n",
      "[1480]\ttrain-rmse:0.36742\tvalid-rmse:0.39545\n",
      "[1500]\ttrain-rmse:0.36708\tvalid-rmse:0.39537\n",
      "[1520]\ttrain-rmse:0.36674\tvalid-rmse:0.39532\n",
      "[1540]\ttrain-rmse:0.36639\tvalid-rmse:0.39528\n",
      "[1560]\ttrain-rmse:0.36614\tvalid-rmse:0.39523\n",
      "[1580]\ttrain-rmse:0.36579\tvalid-rmse:0.39519\n",
      "[1600]\ttrain-rmse:0.36550\tvalid-rmse:0.39514\n",
      "[1620]\ttrain-rmse:0.36515\tvalid-rmse:0.39511\n",
      "[1640]\ttrain-rmse:0.36487\tvalid-rmse:0.39508\n",
      "[1660]\ttrain-rmse:0.36454\tvalid-rmse:0.39504\n",
      "[1680]\ttrain-rmse:0.36425\tvalid-rmse:0.39498\n",
      "[1700]\ttrain-rmse:0.36392\tvalid-rmse:0.39493\n",
      "[1720]\ttrain-rmse:0.36363\tvalid-rmse:0.39489\n",
      "[1740]\ttrain-rmse:0.36335\tvalid-rmse:0.39486\n",
      "[1760]\ttrain-rmse:0.36304\tvalid-rmse:0.39483\n",
      "[1780]\ttrain-rmse:0.36273\tvalid-rmse:0.39480\n",
      "[1800]\ttrain-rmse:0.36245\tvalid-rmse:0.39474\n",
      "[1820]\ttrain-rmse:0.36211\tvalid-rmse:0.39469\n",
      "[1840]\ttrain-rmse:0.36182\tvalid-rmse:0.39467\n",
      "[1860]\ttrain-rmse:0.36156\tvalid-rmse:0.39463\n",
      "[1880]\ttrain-rmse:0.36129\tvalid-rmse:0.39456\n",
      "[1900]\ttrain-rmse:0.36099\tvalid-rmse:0.39452\n",
      "[1920]\ttrain-rmse:0.36072\tvalid-rmse:0.39450\n",
      "[1940]\ttrain-rmse:0.36043\tvalid-rmse:0.39448\n",
      "[1960]\ttrain-rmse:0.36017\tvalid-rmse:0.39442\n",
      "[1980]\ttrain-rmse:0.35992\tvalid-rmse:0.39438\n",
      "[2000]\ttrain-rmse:0.35968\tvalid-rmse:0.39434\n",
      "[2020]\ttrain-rmse:0.35943\tvalid-rmse:0.39435\n",
      "[2040]\ttrain-rmse:0.35917\tvalid-rmse:0.39430\n",
      "[2060]\ttrain-rmse:0.35889\tvalid-rmse:0.39429\n",
      "[2080]\ttrain-rmse:0.35861\tvalid-rmse:0.39427\n",
      "[2100]\ttrain-rmse:0.35834\tvalid-rmse:0.39423\n",
      "[2120]\ttrain-rmse:0.35805\tvalid-rmse:0.39422\n",
      "[2140]\ttrain-rmse:0.35779\tvalid-rmse:0.39420\n",
      "[2160]\ttrain-rmse:0.35753\tvalid-rmse:0.39412\n",
      "[2180]\ttrain-rmse:0.35728\tvalid-rmse:0.39408\n",
      "[2200]\ttrain-rmse:0.35706\tvalid-rmse:0.39406\n",
      "[2220]\ttrain-rmse:0.35684\tvalid-rmse:0.39404\n",
      "[2240]\ttrain-rmse:0.35657\tvalid-rmse:0.39402\n",
      "[2260]\ttrain-rmse:0.35631\tvalid-rmse:0.39398\n",
      "[2280]\ttrain-rmse:0.35610\tvalid-rmse:0.39395\n",
      "[2300]\ttrain-rmse:0.35583\tvalid-rmse:0.39392\n",
      "[2320]\ttrain-rmse:0.35561\tvalid-rmse:0.39390\n",
      "[2340]\ttrain-rmse:0.35535\tvalid-rmse:0.39386\n",
      "[2360]\ttrain-rmse:0.35514\tvalid-rmse:0.39383\n",
      "[2380]\ttrain-rmse:0.35489\tvalid-rmse:0.39382\n",
      "[2400]\ttrain-rmse:0.35469\tvalid-rmse:0.39380\n",
      "[2420]\ttrain-rmse:0.35446\tvalid-rmse:0.39379\n",
      "[2440]\ttrain-rmse:0.35423\tvalid-rmse:0.39380\n",
      "[2460]\ttrain-rmse:0.35401\tvalid-rmse:0.39377\n",
      "[2480]\ttrain-rmse:0.35378\tvalid-rmse:0.39375\n",
      "[2500]\ttrain-rmse:0.35354\tvalid-rmse:0.39373\n",
      "[2520]\ttrain-rmse:0.35332\tvalid-rmse:0.39371\n",
      "[2540]\ttrain-rmse:0.35307\tvalid-rmse:0.39370\n",
      "[2560]\ttrain-rmse:0.35284\tvalid-rmse:0.39366\n",
      "[2580]\ttrain-rmse:0.35263\tvalid-rmse:0.39365\n",
      "[2600]\ttrain-rmse:0.35243\tvalid-rmse:0.39364\n",
      "[2620]\ttrain-rmse:0.35220\tvalid-rmse:0.39361\n",
      "[2640]\ttrain-rmse:0.35200\tvalid-rmse:0.39358\n",
      "[2660]\ttrain-rmse:0.35178\tvalid-rmse:0.39354\n",
      "[2680]\ttrain-rmse:0.35159\tvalid-rmse:0.39351\n",
      "[2700]\ttrain-rmse:0.35138\tvalid-rmse:0.39349\n",
      "[2720]\ttrain-rmse:0.35118\tvalid-rmse:0.39346\n",
      "[2740]\ttrain-rmse:0.35096\tvalid-rmse:0.39344\n",
      "[2760]\ttrain-rmse:0.35075\tvalid-rmse:0.39343\n",
      "[2780]\ttrain-rmse:0.35054\tvalid-rmse:0.39341\n",
      "[2800]\ttrain-rmse:0.35032\tvalid-rmse:0.39340\n",
      "[2820]\ttrain-rmse:0.35012\tvalid-rmse:0.39338\n",
      "[2840]\ttrain-rmse:0.34993\tvalid-rmse:0.39335\n",
      "[2860]\ttrain-rmse:0.34974\tvalid-rmse:0.39335\n",
      "[2880]\ttrain-rmse:0.34953\tvalid-rmse:0.39332\n",
      "[2900]\ttrain-rmse:0.34934\tvalid-rmse:0.39334\n",
      "[2920]\ttrain-rmse:0.34915\tvalid-rmse:0.39333\n",
      "[2940]\ttrain-rmse:0.34895\tvalid-rmse:0.39332\n",
      "[2960]\ttrain-rmse:0.34877\tvalid-rmse:0.39329\n",
      "[2980]\ttrain-rmse:0.34855\tvalid-rmse:0.39330\n",
      "[3000]\ttrain-rmse:0.34837\tvalid-rmse:0.39327\n",
      "[3020]\ttrain-rmse:0.34818\tvalid-rmse:0.39325\n",
      "[3040]\ttrain-rmse:0.34801\tvalid-rmse:0.39325\n",
      "[3060]\ttrain-rmse:0.34781\tvalid-rmse:0.39325\n",
      "[3080]\ttrain-rmse:0.34763\tvalid-rmse:0.39325\n",
      "[3083]\ttrain-rmse:0.34760\tvalid-rmse:0.39324\n",
      "Modeling RMSE 0.39323\n"
     ]
    }
   ],
   "source": [
    "xgb_params = {}\n",
    "xgb_params[\"objective\"] = \"reg:linear\"\n",
    "xgb_params['eval_metric'] = \"rmse\"\n",
    "xgb_params[\"eta\"] = 0.05\n",
    "xgb_params[\"min_child_weight\"] = 10\n",
    "xgb_params[\"subsample\"] = 0.9\n",
    "xgb_params[\"colsample_bytree\"] = 0.7\n",
    "xgb_params[\"max_depth\"] = 5\n",
    "xgb_params['silent'] = 1\n",
    "xgb_params[\"seed\"] = 2019\n",
    "xgb_params[\"nthread\"] = -1\n",
    "xgb_params[\"lambda\"] = 2\n",
    "\n",
    "xgb_model = xgb.train(xgb_params, dtrain, 10000, watchlist, early_stopping_rounds=50,\n",
    "      maximize=False, verbose_eval=20)\n",
    "print('Modeling RMSE %.5f' % xgb_model.best_score)"
   ]
  },
  {
   "cell_type": "code",
   "execution_count": 290,
   "id": "e78b3a1f",
   "metadata": {},
   "outputs": [
    {
     "data": {
      "text/plain": [
       "<Axes: title={'center': 'Feature importance'}, xlabel='F score', ylabel='Features'>"
      ]
     },
     "execution_count": 290,
     "metadata": {},
     "output_type": "execute_result"
    },
    {
     "data": {
      "image/png": "[encoded data removed]",
      "text/plain": [
       "<Figure size 640x480 with 1 Axes>"
      ]
     },
     "metadata": {},
     "output_type": "display_data"
    }
   ],
   "source": [
    "xgb.plot_importance(xgb_model, max_num_features=28, height=0.7)"
   ]
  },
  {
   "cell_type": "code",
   "execution_count": 291,
   "id": "c435575d",
   "metadata": {},
   "outputs": [
    {
     "name": "stdout",
     "output_type": "stream",
     "text": [
      "\n",
      "1 of kfold 5\n",
      "Valid RMSE: 0.40064\n",
      "\n",
      "2 of kfold 5\n",
      "Valid RMSE: 0.40189\n",
      "\n",
      "3 of kfold 5\n",
      "Valid RMSE: 0.39241\n",
      "\n",
      "4 of kfold 5\n",
      "Valid RMSE: 0.39583\n",
      "\n",
      "5 of kfold 5\n",
      "Valid RMSE: 0.39271\n"
     ]
    }
   ],
   "source": [
    "xgb_params['num_round'] = xgb_model.best_iteration\n",
    "xgb_model_final = xgb.XGBRegressor()\n",
    "xgb_scores = cv_score(xgb_model_final)"
   ]
  },
  {
   "cell_type": "markdown",
   "id": "23f9e428",
   "metadata": {},
   "source": [
    "### Averaging"
   ]
  },
  {
   "cell_type": "code",
   "execution_count": 292,
   "id": "4e35f8f8",
   "metadata": {},
   "outputs": [],
   "source": [
    "def cv_score_avg(ml_model_1, ml_model_2,w1 = 0.5, w2 = 0.5, rstate = 11,cols = df.columns):\n",
    "    i = 1\n",
    "    cv_scores = []\n",
    "    df1 = df.copy()\n",
    "    df1 = df[cols]\n",
    "    \n",
    "    kf = KFold(n_splits=5,random_state=rstate,shuffle=True)\n",
    "    for train_index,test_index in kf.split(df1,df_y):\n",
    "        print('\\n{} of kfold {}'.format(i,kf.n_splits))\n",
    "        xtr,xvl = df1.loc[train_index],df1.loc[test_index]\n",
    "        ytr,yvl = df_y[train_index],df_y[test_index]\n",
    "\n",
    "        model = ml_model_1\n",
    "        ml_model_1.fit(xtr, ytr)\n",
    "        pred_val_1 = ml_model_1.predict(xvl)\n",
    "        \n",
    "        model = ml_model_2\n",
    "        ml_model_2.fit(xtr, ytr)\n",
    "        pred_val_2 = ml_model_2.predict(xvl)\n",
    "        \n",
    "        final_pred=(pred_val_1*w1 + pred_val_2*w2)\n",
    "\n",
    "        rmse_score = sqrt(mean_squared_error(yvl, final_pred))\n",
    "        \n",
    "        sufix = \"\"\n",
    "        msg = \"\"\n",
    "        msg += \"Valid RMSE: {:.5f}\".format(rmse_score)\n",
    "        print(\"{}\".format(msg))\n",
    "        # Save scores\n",
    "        cv_scores.append(rmse_score)\n",
    "        i+=1\n",
    "    return cv_scores"
   ]
  },
  {
   "cell_type": "code",
   "execution_count": 293,
   "id": "601daeca",
   "metadata": {},
   "outputs": [
    {
     "name": "stdout",
     "output_type": "stream",
     "text": [
      "\n",
      "1 of kfold 5\n",
      "Valid RMSE: 0.40975\n",
      "\n",
      "2 of kfold 5\n",
      "Valid RMSE: 0.41075\n",
      "\n",
      "3 of kfold 5\n",
      "Valid RMSE: 0.40083\n",
      "\n",
      "4 of kfold 5\n",
      "Valid RMSE: 0.40491\n",
      "\n",
      "5 of kfold 5\n",
      "Valid RMSE: 0.40257\n"
     ]
    }
   ],
   "source": [
    "avg_scores = cv_score_avg(xgb_model_final, RandomForestRegressor(**rf_params), w1 = 0.4, w2 = 0.6)"
   ]
  },
  {
   "cell_type": "markdown",
   "id": "409953e7",
   "metadata": {},
   "source": [
    "### Stacking"
   ]
  },
  {
   "cell_type": "code",
   "execution_count": 294,
   "id": "ca38eadc",
   "metadata": {},
   "outputs": [],
   "source": [
    "# Model Definitions for feeding into Stacking\n",
    "xgb_model = xgb.XGBRegressor(**xgb_params)\n",
    "rf_model = RandomForestRegressor(**rf_params)\n",
    "tree_model = DecisionTreeRegressor(min_samples_leaf=25, min_samples_split=25)"
   ]
  },
  {
   "cell_type": "code",
   "execution_count": 296,
   "id": "581bd741",
   "metadata": {},
   "outputs": [],
   "source": [
    "# Importing Stacking regressor from mlxtend\n",
    "from mlxtend.regressor import StackingCVRegressor\n",
    "\n",
    "stacked_model = StackingCVRegressor(\n",
    "    regressors=[xgb_model, rf_model],\n",
    "    meta_regressor=Ridge()\n",
    ")"
   ]
  },
  {
   "cell_type": "code",
   "execution_count": 297,
   "id": "23a65da2",
   "metadata": {},
   "outputs": [
    {
     "name": "stdout",
     "output_type": "stream",
     "text": [
      "\n",
      "1 of kfold 5\n",
      "Valid RMSE: 0.42614\n",
      "\n",
      "2 of kfold 5\n",
      "Valid RMSE: 0.42723\n",
      "\n",
      "3 of kfold 5\n",
      "Valid RMSE: 0.41715\n",
      "\n",
      "4 of kfold 5\n",
      "Valid RMSE: 0.42111\n",
      "\n",
      "5 of kfold 5\n",
      "Valid RMSE: 0.41924\n"
     ]
    }
   ],
   "source": [
    "stacking_scores = cv_score(stacked_model)"
   ]
  },
  {
   "cell_type": "code",
   "execution_count": 307,
   "id": "4fcf49f2",
   "metadata": {},
   "outputs": [
    {
     "data": {
      "text/plain": [
       "<matplotlib.legend.Legend at 0x2538fab5250>"
      ]
     },
     "execution_count": 307,
     "metadata": {},
     "output_type": "execute_result"
    },
    {
     "data": {
      "image/png": "[encoded data removed]",
      "text/plain": [
       "<Figure size 640x480 with 1 Axes>"
      ]
     },
     "metadata": {},
     "output_type": "display_data"
    }
   ],
   "source": [
    "results_df = pd.DataFrame({'RF':rf_scores, 'XGB': xgb_scores, 'Average': avg_scores, 'Stacking':stacking_scores})\n",
    "results_df.plot(y=[\"RF\", \"XGB\",\"Average\",\"Stacking\"], kind=\"bar\")\n",
    "plt.legend(bbox_to_anchor=(1.0,1.0),loc='upper left')"
   ]
  },
  {
   "cell_type": "markdown",
   "id": "d38471c0",
   "metadata": {},
   "source": [
    "* XGb gives the best prediction among the models and ensemble methods used here."
   ]
  },
  {
   "cell_type": "code",
   "execution_count": null,
   "id": "72896e89",
   "metadata": {},
   "outputs": [],
   "source": []
  }
 ],
 "metadata": {
  "kernelspec": {
   "display_name": "Python 3 (ipykernel)",
   "language": "python",
   "name": "python3"
  },
  "language_info": {
   "codemirror_mode": {
    "name": "ipython",
    "version": 3
   },
   "file_extension": ".py",
   "mimetype": "text/x-python",
   "name": "python",
   "nbconvert_exporter": "python",
   "pygments_lexer": "ipython3",
   "version": "3.11.5"
  }
 },
 "nbformat": 4,
 "nbformat_minor": 5
}
